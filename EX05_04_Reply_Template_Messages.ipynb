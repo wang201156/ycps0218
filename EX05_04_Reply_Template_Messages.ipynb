{
  "nbformat": 4,
  "nbformat_minor": 0,
  "metadata": {
    "colab": {
      "provenance": [],
      "authorship_tag": "ABX9TyMoJtxyStWDixTQGpQlCLUy",
      "include_colab_link": true
    },
    "kernelspec": {
      "name": "python3",
      "display_name": "Python 3"
    },
    "language_info": {
      "name": "python"
    }
  },
  "cells": [
    {
      "cell_type": "markdown",
      "metadata": {
        "id": "view-in-github",
        "colab_type": "text"
      },
      "source": [
        "<a href=\"https://colab.research.google.com/github/wang201156/ycps0218/blob/main/EX05_04_Reply_Template_Messages.ipynb\" target=\"_parent\"><img src=\"https://colab.research.google.com/assets/colab-badge.svg\" alt=\"Open In Colab\"/></a>"
      ]
    },
    {
      "cell_type": "code",
      "execution_count": null,
      "metadata": {
        "id": "9_jd0NqSQbNa"
      },
      "outputs": [],
      "source": [
        "!pip install flask\n",
        "!pip install pyngrok\n",
        "!pip install flask_ngrok\n",
        "!pip install line-bot-sdk"
      ]
    },
    {
      "cell_type": "code",
      "source": [
        "#===================================\n",
        "#for colab\n",
        "from google.colab import userdata\n",
        "from pyngrok import ngrok\n",
        "from flask_ngrok import run_with_ngrok\n",
        "def ngrok_start():\n",
        "  ngrok.set_auth_token(userdata.get('NGROK'))\n",
        "  ngrok.connect(5000)\n",
        "  run_with_ngrok(app)\n",
        "#===================================\n",
        "\n",
        "from flask import Flask, request, abort\n",
        "\n",
        "from linebot.v3 import WebhookHandler\n",
        "from linebot.v3.exceptions import InvalidSignatureError\n",
        "# Fix: Complete the import statement\n",
        "from linebot.v3.messaging import (\n",
        "    Configuration,\n",
        "    ApiClient,\n",
        "    MessagingApi,\n",
        "    ReplyMessageRequest,\n",
        "    StickerMessage,\n",
        "    ImageMessage,\n",
        "    VideoMessage,\n",
        "    LocationMessage,\n",
        "    TextMessage,\n",
        "    TemplateMessage,\n",
        "    ConfirmTemplate,\n",
        "    MessageAction\n",
        ")\n",
        "from linebot.v3.messaging import (\n",
        "    TemplateMessage,\n",
        "    CarouselTemplate,\n",
        "    CarouselColumn,\n",
        "    URIAction,\n",
        "    PostbackAction\n",
        ")\n",
        "from linebot.v3.webhooks import (\n",
        "    MessageEvent,\n",
        "    TextMessageContent\n",
        ")\n",
        "\n",
        "app = Flask(__name__)\n",
        "\n",
        "@app.route(\"/\", methods=['GET'])\n",
        "def index():\n",
        "  return 'Hello'\n",
        "\n",
        "configuration = Configuration(access_token=userdata.get(\"LINE_CHANNEL_access_token\"))\n",
        "handler = WebhookHandler(userdata.get('LINE_CHANNEL_Channel_secret'))\n",
        "\n",
        "\n",
        "@app.route(\"/callback\", methods=['POST'])\n",
        "def callback():\n",
        "    # get X-Line-Signature header value\n",
        "    signature = request.headers['X-Line-Signature']\n",
        "\n",
        "    # get request body as text\n",
        "    body = request.get_data(as_text=True)\n",
        "    app.logger.info(\"Request body: \" + body)\n",
        "\n",
        "    # handle webhook body\n",
        "    try:\n",
        "        handler.handle(body, signature)\n",
        "    except InvalidSignatureError:\n",
        "        app.logger.info(\"Invalid signature. Please check your channel access token/channel secret.\")\n",
        "        abort(400)\n",
        "\n",
        "    return 'OK'\n",
        "\n",
        "@handler.add(MessageEvent, message=TextMessageContent)\n",
        "def handle_message(event):\n",
        "    with ApiClient(configuration) as api_client:\n",
        "        line_bot_api = MessagingApi(api_client)\n",
        "\n",
        "        action=event.message.text\n",
        "#=======================================================================\n",
        "        if action == \"confirm\":\n",
        "            template=ConfirmTemplate(\n",
        "              text=\"這句話是錯的\",\n",
        "              actions=[\n",
        "               MessageAction(label=\"是\", text=\"True\"),\n",
        "               MessageAction(label=\"否\", text=\"False\")\n",
        "                ]\n",
        "              )\n",
        "            # Fix: Correct indentation for this line\n",
        "            reply = TemplateMessage(\n",
        "              alt_text=\"確認\",\n",
        "              template=template\n",
        "              )\n",
        "\n",
        "#=======================================================================\n",
        "        elif action == \"carousel\":\n",
        "          # 定義 CarouselTemplate\n",
        "          carousel_template = CarouselTemplate(\n",
        "              columns=[\n",
        "                  CarouselColumn(\n",
        "                      thumbnail_image_url='https://upload.wikimedia.org/wikipedia/zh/7/7d/Summer_Wars_poster.jpg',\n",
        "                      title='夏日大作戰',\n",
        "                      text='導演:細田守',\n",
        "                      actions=[\n",
        "                          URIAction(label='維基百科', uri='https://zh.wikipedia.org/zh-tw/%E5%A4%8F%E6%97%A5%E5%A4%A7%E4%BD%9C%E6%88%B0'),\n",
        "                          MessageAction(label='投票', text='投夏日大作戰一票')\n",
        "                      ]\n",
        "                  ),\n",
        "                  CarouselColumn(\n",
        "                      thumbnail_image_url='https://upload.wikimedia.org/wikipedia/zh/7/78/Promare_Key_Visual.jpg',\n",
        "                      title='Promare',\n",
        "                      text='導演:今石洋之',\n",
        "                      actions=[\n",
        "                          URIAction(label='維基百科', uri='https://zh.wikipedia.org/zh-tw/%E6%99%AE%E7%BE%85%E7%B1%B3%E4%BA%9E'),\n",
        "                          MessageAction(label='投票', text='投Promare一票')\n",
        "                      ]\n",
        "                  )\n",
        "              ]\n",
        "          )\n",
        "          # 包裝成 TemplateMessage\n",
        "          template_message = TemplateMessage(\n",
        "              alt_text='這是一個輪播模板',\n",
        "              template=carousel_template\n",
        "          )\n",
        "          reply = template_message # Add this line\n",
        "#=======================================================================\n",
        "\n",
        "        else:\n",
        "            reply = TextMessage(text=\"Thanks you\")\n",
        "\n",
        "        line_bot_api.reply_message_with_http_info(\n",
        "            ReplyMessageRequest(\n",
        "                reply_token=event.reply_token,\n",
        "                messages=[reply]\n",
        "            )\n",
        "        )\n",
        "#=======================================================================\n",
        "\n",
        "\n",
        "ngrok_start() #for colab\n",
        "if __name__ == \"__main__\":\n",
        "    app.run()"
      ],
      "metadata": {
        "colab": {
          "base_uri": "https://localhost:8080/"
        },
        "id": "0OHN5DNdddNv",
        "outputId": "8ebb0a18-9f59-495d-eb76-0f71c0cf5b20"
      },
      "execution_count": null,
      "outputs": [
        {
          "output_type": "stream",
          "name": "stdout",
          "text": [
            " * Serving Flask app '__main__'\n",
            " * Debug mode: off\n"
          ]
        },
        {
          "output_type": "stream",
          "name": "stderr",
          "text": [
            "INFO:werkzeug:\u001b[31m\u001b[1mWARNING: This is a development server. Do not use it in a production deployment. Use a production WSGI server instead.\u001b[0m\n",
            " * Running on http://127.0.0.1:5000\n",
            "INFO:werkzeug:\u001b[33mPress CTRL+C to quit\u001b[0m\n"
          ]
        },
        {
          "output_type": "stream",
          "name": "stdout",
          "text": [
            " * Running on http://20ea-34-106-104-167.ngrok-free.app\n",
            " * Traffic stats available on http://127.0.0.1:4040\n"
          ]
        },
        {
          "output_type": "stream",
          "name": "stderr",
          "text": [
            "INFO:werkzeug:127.0.0.1 - - [13/May/2025 07:57:47] \"GET / HTTP/1.1\" 200 -\n",
            "INFO:werkzeug:127.0.0.1 - - [13/May/2025 07:57:48] \"\u001b[33mGET /favicon.ico HTTP/1.1\u001b[0m\" 404 -\n",
            "INFO:werkzeug:127.0.0.1 - - [13/May/2025 07:57:56] \"POST /callback HTTP/1.1\" 200 -\n",
            "INFO:werkzeug:127.0.0.1 - - [13/May/2025 07:58:11] \"POST /callback HTTP/1.1\" 200 -\n"
          ]
        }
      ]
    }
  ]
}