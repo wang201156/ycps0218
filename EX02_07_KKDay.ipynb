{
  "nbformat": 4,
  "nbformat_minor": 0,
  "metadata": {
    "colab": {
      "provenance": [],
      "authorship_tag": "ABX9TyMtxlQNjkf1uO4jF4A3Jonz",
      "include_colab_link": true
    },
    "kernelspec": {
      "name": "python3",
      "display_name": "Python 3"
    },
    "language_info": {
      "name": "python"
    }
  },
  "cells": [
    {
      "cell_type": "markdown",
      "metadata": {
        "id": "view-in-github",
        "colab_type": "text"
      },
      "source": [
        "<a href=\"https://colab.research.google.com/github/wang201156/ycps0218/blob/main/EX02_07_KKDay.ipynb\" target=\"_parent\"><img src=\"https://colab.research.google.com/assets/colab-badge.svg\" alt=\"Open In Colab\"/></a>"
      ]
    },
    {
      "cell_type": "code",
      "execution_count": 4,
      "metadata": {
        "id": "vzPnQKIEdKF4",
        "colab": {
          "base_uri": "https://localhost:8080/"
        },
        "outputId": "e21d1bd8-cc81-4553-f12f-cfa6192cf7d9"
      },
      "outputs": [
        {
          "output_type": "execute_result",
          "data": {
            "text/plain": [
              "{'prod_mid': 133300,\n",
              " 'prod_oid': 133300,\n",
              " 'name': '澀谷SHIBUYA SKY展望台門票|即買即用',\n",
              " 'introduction': '東京澀谷人氣景點SHIBUYA SKY展望台,讓你從229 公尺處高空360度無死角俯瞰東京美景,現於KKday下訂SHIBUYA SKY展望台門票,到現場出示QRcode即可於指定時段快速入場,享受從澀谷sky俯瞰東京美景的浪漫!',\n",
              " 'rating_count': 12963,\n",
              " 'rating_star': 4.72,\n",
              " 'show_order_count': '200K+',\n",
              " 'earliest_sale_date': '20250402',\n",
              " 'sale_status': 1,\n",
              " 'purchase_type': None,\n",
              " 'purchase_date': None,\n",
              " 'is_tourism_product': True,\n",
              " 'readable_url': 'shibuya-sky-observatory-e-ticket-tokyo',\n",
              " 'product_category': {'main': 'CATEGORY_002', 'sub': []},\n",
              " 'display_tags': ['立即確認'],\n",
              " 'img_url_list': ['https://image.kkday.com/image/get/w_600%2Cc_fit/s1.kkday.com/product_133300/20220915065553_dvR7F/jpg',\n",
              "  'https://image.kkday.com/image/get/w_600%2Cc_fit/s1.kkday.com/product_133300/20220915065552_qbjbV/jpg',\n",
              "  'https://image.kkday.com/image/get/w_600%2Cc_fit/s1.kkday.com/product_133300/20220915065552_O6JcT/jpg',\n",
              "  'https://image.kkday.com/image/get/w_600%2Cc_fit/s1.kkday.com/product_133300/20220923072327_PlGvK/jpg',\n",
              "  'https://image.kkday.com/image/get/w_600%2Cc_fit/s1.kkday.com/product_133300/20220915065554_via3M/jpg'],\n",
              " 'currency': 'TWD',\n",
              " 'official_price': 599,\n",
              " 'max_price': 754,\n",
              " 'min_price': 599,\n",
              " 'discount': 0,\n",
              " 'is_display_price': False,\n",
              " 'destinations': [{'code': 'D-JP-3654', 'name': '澀谷'},\n",
              "  {'code': 'D-JP-3261', 'name': '東京'},\n",
              "  {'code': 'D-JP-3218', 'name': '關東'},\n",
              "  {'code': 'D-JP-112', 'name': '日本'}],\n",
              " 'is_marketplace': False,\n",
              " 'supplier_oid_list': [7008],\n",
              " 'supplier_name': None,\n",
              " 'supplier_logo': None,\n",
              " 'supplier_badge': 0,\n",
              " 'is_zero_price': False,\n",
              " 'is_kkday_best_route': False}"
            ]
          },
          "metadata": {},
          "execution_count": 4
        }
      ],
      "source": [
        "import requests\n",
        "from bs4 import BeautifulSoup\n",
        "import csv\n",
        "import os\n",
        "\n",
        "if not os.path.exists(\"/content/data\"):\n",
        "    os.mkdir(\"/content/data\")\n",
        "\n",
        "url=\"https://www.kkday.com/zh-tw/destination_api/ajax_get_destination_top_products?destination=D-JP-3261\"\n",
        "headers={\"user-agent\":\"Mozilla/5.0 (Windows NT 10.0; Win64; x64) AppleWebKit/537.36 (KHTML, like Gecko) Chrome/134.0.0.0 Safari/537.36\"}\n",
        "response = requests.get(url,headers=headers)\n",
        "response.encoding = 'utf-8'\n",
        "\n",
        "destinations=response.json()\n",
        "destinations[\"data\"][0]\n"
      ]
    },
    {
      "cell_type": "code",
      "source": [],
      "metadata": {
        "id": "Lic5brCNEVXA"
      },
      "execution_count": null,
      "outputs": []
    },
    {
      "cell_type": "code",
      "source": [
        "from IPython.display import Image,display\n",
        "for destination in destinations[\"data\"]:\n",
        "    print(destination[\"name\"],destination[\"official_price\"],destination[\"rating_star\"])\n",
        "    print(destination[\"introduction\"])\n",
        "    print(destination[\"img_url_list\"][0])\n",
        "    display(Image(url=destination[\"img_url_list\"][0],width=300))\n",
        "    print(\"-\"*3)\n",
        "    print()\n"
      ],
      "metadata": {
        "colab": {
          "base_uri": "https://localhost:8080/",
          "height": 1000
        },
        "id": "xfVkvP2mC1JI",
        "outputId": "ba5fc6b0-0492-4a33-b1e6-de14050453a8"
      },
      "execution_count": 21,
      "outputs": [
        {
          "output_type": "stream",
          "name": "stdout",
          "text": [
            "澀谷SHIBUYA SKY展望台門票|即買即用 599 4.72\n",
            "東京澀谷人氣景點SHIBUYA SKY展望台,讓你從229 公尺處高空360度無死角俯瞰東京美景,現於KKday下訂SHIBUYA SKY展望台門票,到現場出示QRcode即可於指定時段快速入場,享受從澀谷sky俯瞰東京美景的浪漫!\n",
            "https://image.kkday.com/image/get/w_600%2Cc_fit/s1.kkday.com/product_133300/20220915065553_dvR7F/jpg\n"
          ]
        },
        {
          "output_type": "display_data",
          "data": {
            "text/html": [
              "<img src=\"https://image.kkday.com/image/get/w_600%2Cc_fit/s1.kkday.com/product_133300/20220915065553_dvR7F/jpg\" width=\"300\"/>"
            ],
            "text/plain": [
              "<IPython.core.display.Image object>"
            ]
          },
          "metadata": {}
        },
        {
          "output_type": "stream",
          "name": "stdout",
          "text": [
            "---\n",
            "\n",
            "Skyliner京成電鐵車票 570 4.87\n",
            "Skyliner京成電鐵一班車直達東京市區與成田機場,全程不需換車且座位寬敞舒適。現於KKday下訂Skyliner京成電鐵車票,無須指定起迄站隨時可劃位上車!\n",
            "https://image.kkday.com/image/get/w_600%2Cc_fit/s1.kkday.com/product_18566/20180430104240_XHgkl/jpg\n"
          ]
        },
        {
          "output_type": "display_data",
          "data": {
            "text/html": [
              "<img src=\"https://image.kkday.com/image/get/w_600%2Cc_fit/s1.kkday.com/product_18566/20180430104240_XHgkl/jpg\" width=\"300\"/>"
            ],
            "text/plain": [
              "<IPython.core.display.Image object>"
            ]
          },
          "metadata": {}
        },
        {
          "output_type": "stream",
          "name": "stdout",
          "text": [
            "---\n",
            "\n",
            "東京迪士尼度假區門票 Tokyo Disney Resort 1718 4.81\n",
            "一票暢玩東京迪士尼樂園與東京迪士尼海洋,帶你走進迪士尼卡通的夢幻世界!現於KKday下訂日本東京迪士尼度假區門票,出示 QR code免受入園管制輕鬆入場!\n",
            "https://image.kkday.com/image/get/w_600%2Cc_fit/s1.kkday.com/product_32488/20220706120224_fLhdh/jpg\n"
          ]
        },
        {
          "output_type": "display_data",
          "data": {
            "text/html": [
              "<img src=\"https://image.kkday.com/image/get/w_600%2Cc_fit/s1.kkday.com/product_32488/20220706120224_fLhdh/jpg\" width=\"300\"/>"
            ],
            "text/plain": [
              "<IPython.core.display.Image object>"
            ]
          },
          "metadata": {}
        },
        {
          "output_type": "stream",
          "name": "stdout",
          "text": [
            "---\n",
            "\n",
            "東京地鐵三日券/二日券/一日券 Tokyo Subway Ticket 171 4.81\n",
            "東京地鐵三日券/二日券/一日券可於指定內無限次搭乘東京Metro地鐵與都營地下鐵全線,現於KKday下訂日本東京地鐵乘車券,可任選72/48/24小時方案,輕鬆以經濟實惠的車票價格玩遍東京,享受日本東京魅力!\n",
            "https://image.kkday.com/image/get/w_600%2Cc_fit/s1.kkday.com/product_18565/20171213024302_WDF7g/jpg\n"
          ]
        },
        {
          "output_type": "display_data",
          "data": {
            "text/html": [
              "<img src=\"https://image.kkday.com/image/get/w_600%2Cc_fit/s1.kkday.com/product_18565/20171213024302_WDF7g/jpg\" width=\"300\"/>"
            ],
            "text/plain": [
              "<IPython.core.display.Image object>"
            ]
          },
          "metadata": {}
        },
        {
          "output_type": "stream",
          "name": "stdout",
          "text": [
            "---\n",
            "\n",
            "京成電鐵Skyliner套票 620 4.81\n",
            "Skyliner套票包含Skyliner京成電鐵票&東京地鐵券,不僅可以快速往返成田機場與東京市區,還能在有效期間內任意搭乘東京Metro和都營地下鐵全線,現於KKday下訂Skyliner套票,輕鬆省下交通開銷,暢玩東京景點!\n",
            "https://image.kkday.com/image/get/w_600%2Cc_fit/s1.kkday.com/product_25780/20230112062059_fZmC5/jpg\n"
          ]
        },
        {
          "output_type": "display_data",
          "data": {
            "text/html": [
              "<img src=\"https://image.kkday.com/image/get/w_600%2Cc_fit/s1.kkday.com/product_25780/20230112062059_fZmC5/jpg\" width=\"300\"/>"
            ],
            "text/plain": [
              "<IPython.core.display.Image object>"
            ]
          },
          "metadata": {}
        },
        {
          "output_type": "stream",
          "name": "stdout",
          "text": [
            "---\n",
            "\n",
            "日本成田機場(NRT)・羽田機場(HND)機場專車接送 |機場 ⮂東京23區內及各大景點/東京迪士尼度假區/近郊地區(橫濱/箱根/河口湖/輕井澤/伊豆/長野縣/水戶) 555 4.63\n",
            "在 KKday 輕鬆預訂東京成田機場或羽田機場專車接送服務,替你省下等待大眾交通工具及轉乘的時間精力。無論是直達入住的飯店或是機場、三麗鷗彩虹樂園 / 三鷹之森吉卜力美術館 / 東京迪士尼度假區還是各近郊地區,讓你不用提著大包小包行李轉乘, 解決拖帶大型行李轉乘的不便,專車接送無需與他人共乘,提供最舒適安心的接送服務。-玩東京必買-\n",
            "https://image.kkday.com/image/get/w_600%2Cc_fit/s1.kkday.com/product_174325/20240516024502_wU9s3/jpg\n"
          ]
        },
        {
          "output_type": "display_data",
          "data": {
            "text/html": [
              "<img src=\"https://image.kkday.com/image/get/w_600%2Cc_fit/s1.kkday.com/product_174325/20240516024502_wU9s3/jpg\" width=\"300\"/>"
            ],
            "text/plain": [
              "<IPython.core.display.Image object>"
            ]
          },
          "metadata": {}
        },
        {
          "output_type": "stream",
          "name": "stdout",
          "text": [
            "---\n",
            "\n",
            "東京哈利波特影城門票 1092 4.81\n",
            "東京哈利波特影城從地鐵豐島園站下車步行2分鐘即可抵達,不只帶您走進電影中超人氣的霍格華茲大廳、斜角巷、9 3⁄4 月台等知名場景,還有絕無僅有的《哈利波特》、《怪獸與牠們的產地》電影道具、幕後製作秘辛與各種互動式體驗。現於KKday下訂東京哈利波特影城門票,出示電子憑證後即可直接入場!\n",
            "https://image.kkday.com/image/get/w_600%2Cc_fit/s1.kkday.com/product_144383/20230802085219_igCRN/jpg\n"
          ]
        },
        {
          "output_type": "display_data",
          "data": {
            "text/html": [
              "<img src=\"https://image.kkday.com/image/get/w_600%2Cc_fit/s1.kkday.com/product_144383/20230802085219_igCRN/jpg\" width=\"300\"/>"
            ],
            "text/plain": [
              "<IPython.core.display.Image object>"
            ]
          },
          "metadata": {}
        },
        {
          "output_type": "stream",
          "name": "stdout",
          "text": [
            "---\n",
            "\n",
            "東京豐洲新型態美術館門票 teamLab Planets TOKYO 887 4.78\n",
            "東京豐洲teamLab Planets TOKYO是一間日本新型態型美術館,展覽主要分為 5 種空間、8 個作品,東京豐洲新型態美術館每個空間都以「身臨其境 / Body Immersive 」為概念設計成超巨大的身體沉浸式作品群,現於KKday下訂東京teamLab Planets TOKYO門票,出示 QR code即可輕鬆參觀。\n",
            "https://image.kkday.com/image/get/w_600%2Cc_fit/s1.kkday.com/product_22396/20210630091546_4V2Zz/jpg\n"
          ]
        },
        {
          "output_type": "display_data",
          "data": {
            "text/html": [
              "<img src=\"https://image.kkday.com/image/get/w_600%2Cc_fit/s1.kkday.com/product_22396/20210630091546_4V2Zz/jpg\" width=\"300\"/>"
            ],
            "text/plain": [
              "<IPython.core.display.Image object>"
            ]
          },
          "metadata": {}
        },
        {
          "output_type": "stream",
          "name": "stdout",
          "text": [
            "---\n",
            "\n",
            "富士山網紅打卡景點一日遊|新倉山淺間公園・天梯小鎮・時計街・忍野八海・河口湖大石公園・羅森便利店|贈送美味草餅 1941 4.8\n",
            "來KKday 預定富士山一日遊,我們將前往新倉山淺間公園,從經典角度眺望富士山,拍攝美照;帶您領略大石公園的浪漫花海,如夢如幻,還能捕捉到和富士山同框的美麗瞬間;而天梯小鎮-日川時計街更是讓您有富士山的美麗瞬間海,不僅可以看到湧泉水的奇妙自然景觀,更會贈送大家美味軟糯的草餅;河口湖周邊羅森便利店打卡拍攝點,讓您拍到特色的富士山合影。\n",
            "https://image.kkday.com/image/get/w_600%2Cc_fit/s1.kkday.com/product_184519/20250319073920_7RMee/jpg\n"
          ]
        },
        {
          "output_type": "display_data",
          "data": {
            "text/html": [
              "<img src=\"https://image.kkday.com/image/get/w_600%2Cc_fit/s1.kkday.com/product_184519/20250319073920_7RMee/jpg\" width=\"300\"/>"
            ],
            "text/plain": [
              "<IPython.core.display.Image object>"
            ]
          },
          "metadata": {}
        },
        {
          "output_type": "stream",
          "name": "stdout",
          "text": [
            "---\n",
            "\n",
            "東京晴空塔門票 466 4.72\n",
            "東京晴空塔(東京天空樹)是東京人氣景點,也是俯瞰東京街景與夜景的最佳選擇。現於KKday下訂東京晴空塔門票,享有比官網還優惠的價格。\n",
            "https://image.kkday.com/image/get/w_600%2Cc_fit/s1.kkday.com/product_38352/20250204101617_xYLdH/jpg\n"
          ]
        },
        {
          "output_type": "display_data",
          "data": {
            "text/html": [
              "<img src=\"https://image.kkday.com/image/get/w_600%2Cc_fit/s1.kkday.com/product_38352/20250204101617_xYLdH/jpg\" width=\"300\"/>"
            ],
            "text/plain": [
              "<IPython.core.display.Image object>"
            ]
          },
          "metadata": {}
        },
        {
          "output_type": "stream",
          "name": "stdout",
          "text": [
            "---\n",
            "\n"
          ]
        }
      ]
    },
    {
      "cell_type": "code",
      "source": [
        ""
      ],
      "metadata": {
        "id": "nyD01x2fHqEv"
      },
      "execution_count": null,
      "outputs": []
    }
  ]
}