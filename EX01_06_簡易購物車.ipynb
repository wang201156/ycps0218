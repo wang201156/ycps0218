{
  "nbformat": 4,
  "nbformat_minor": 0,
  "metadata": {
    "colab": {
      "provenance": [],
      "authorship_tag": "ABX9TyOlnYmkKhJASVgpYVQ05QKS",
      "include_colab_link": true
    },
    "kernelspec": {
      "name": "python3",
      "display_name": "Python 3"
    },
    "language_info": {
      "name": "python"
    }
  },
  "cells": [
    {
      "cell_type": "markdown",
      "metadata": {
        "id": "view-in-github",
        "colab_type": "text"
      },
      "source": [
        "<a href=\"https://colab.research.google.com/github/wang201156/ycps0218/blob/main/EX01_06_%E7%B0%A1%E6%98%93%E8%B3%BC%E7%89%A9%E8%BB%8A.ipynb\" target=\"_parent\"><img src=\"https://colab.research.google.com/assets/colab-badge.svg\" alt=\"Open In Colab\"/></a>"
      ]
    },
    {
      "cell_type": "code",
      "execution_count": 28,
      "metadata": {
        "id": "bb_paY19LiVS",
        "colab": {
          "base_uri": "https://localhost:8080/"
        },
        "outputId": "e37b76e8-d7fb-4259-d979-7c36211218e3"
      },
      "outputs": [
        {
          "output_type": "stream",
          "name": "stdout",
          "text": [
            "商品欄 1_apple/25,2_banana/12,3_cherry/30\n",
            "購物車 1_apple,3_cherry\n",
            "功能列 1.新增商品 2.移除商品 3.結帳 4.離開\n",
            "請選擇功能列_商品編號3\n",
            "結帳金額: 55\n"
          ]
        }
      ],
      "source": [
        "from IPython.display import clear_output\n",
        "shopping_cart = []\n",
        "products = { \"1_apple\": 25, \"2_banana\": 12, \"3_cherry\": 30 } ##{} 宣告，包含 key:value 對應\n",
        "while True:\n",
        "    clear_output()\n",
        "    print(\"商品欄\",\",\".join([f'{pd}/{pr}' for pd,pr in products.items()]))    ##串列 join()合併序列為字串  字串前加上「f」即可進行格式化，並將變數名稱放入「{}」之中\n",
        "    print(\"購物車\",\",\".join(shopping_cart))\n",
        "    print(\"功能列\",\"1.新增商品 2.移除商品 3.結帳 4.離開\")\n",
        "    choice = input(\"請選擇功能列_商品編號\")\n",
        "    if choice[0]== \"1\":\n",
        "        if choice[2]== \"1\":\n",
        "          shopping_cart.append(\"1_apple\")\n",
        "        elif choice[2]== \"2\":\n",
        "          shopping_cart.append(\"2_banana\")\n",
        "        elif choice[2]== \"3\":\n",
        "          shopping_cart.append(\"3_cherry\")    ##新增、刪除：append(obj)、remove(val)\n",
        "        else :\n",
        "          print(\"請輸入 功能_商品編號\")\n",
        "          break\n",
        "    elif choice[0]== \"2\":\n",
        "        if choice[2]== \"1\":\n",
        "          shopping_cart.remove(\"1_apple\")\n",
        "        elif choice[2]== \"2\":\n",
        "          shopping_cart.remove(\"2_banana\")\n",
        "        elif choice[2]== \"3\":\n",
        "          shopping_cart.remove(\"3_cherry\")\n",
        "        else :\n",
        "          print(\"請輸入 功能_商品編號\")\n",
        "          break\n",
        "    elif choice[0]== \"3\":\n",
        "        total=0\n",
        "        for pd in shopping_cart:\n",
        "          total+=products[pd]\n",
        "        print(\"結帳金額:\",total)\n",
        "        break\n",
        "    elif choice[0]== \"4\":\n",
        "       print(\"離開\")\n",
        "       break\n",
        "    else :\n",
        "        print(\"請輸入 功能_商品編號\")\n",
        "        break\n",
        "\n",
        "\n",
        "\n"
      ]
    }
  ]
}