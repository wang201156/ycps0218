{
  "nbformat": 4,
  "nbformat_minor": 0,
  "metadata": {
    "colab": {
      "provenance": [],
      "authorship_tag": "ABX9TyNgalagMD2yAPPVpIHqAC/t",
      "include_colab_link": true
    },
    "kernelspec": {
      "name": "python3",
      "display_name": "Python 3"
    },
    "language_info": {
      "name": "python"
    }
  },
  "cells": [
    {
      "cell_type": "markdown",
      "metadata": {
        "id": "view-in-github",
        "colab_type": "text"
      },
      "source": [
        "<a href=\"https://colab.research.google.com/github/wang201156/ycps0218/blob/main/EX02_01_My_Chatbot.ipynb\" target=\"_parent\"><img src=\"https://colab.research.google.com/assets/colab-badge.svg\" alt=\"Open In Colab\"/></a>"
      ]
    },
    {
      "cell_type": "code",
      "execution_count": 1,
      "metadata": {
        "id": "eDETIa9SC2QO"
      },
      "outputs": [],
      "source": [
        "from google.colab import userdata\n",
        "import google.generativeai as genai\n",
        "genai.configure(api_key=userdata.get('GOOGLE_API_KEY'))"
      ]
    },
    {
      "cell_type": "code",
      "source": [],
      "metadata": {
        "id": "b2leWSMJUuOc"
      },
      "execution_count": null,
      "outputs": []
    },
    {
      "cell_type": "code",
      "source": [
        "from IPython.display import Markdown, display\n",
        "while True:\n",
        "  message=input(\"you:\")\n",
        "  if message == \"quit\":\n",
        "    break\n",
        "  model = genai.GenerativeModel(\"gemini-2.0-flash-exp\")\n",
        "  chat = model.start_chat(history=[])\n",
        "  response = chat.send_message(message)\n",
        "  display(Markdown(response.text))"
      ],
      "metadata": {
        "colab": {
          "base_uri": "https://localhost:8080/",
          "height": 1000
        },
        "id": "uorWE_FZUufb",
        "outputId": "4b0bc7e3-751c-4aa7-bd96-8b330eb0f419"
      },
      "execution_count": 4,
      "outputs": [
        {
          "name": "stdout",
          "output_type": "stream",
          "text": [
            "you:hi\n"
          ]
        },
        {
          "output_type": "display_data",
          "data": {
            "text/plain": [
              "<IPython.core.display.Markdown object>"
            ],
            "text/markdown": "Hi there! How can I help you today?\n"
          },
          "metadata": {}
        },
        {
          "name": "stdout",
          "output_type": "stream",
          "text": [
            "you:phantom pain\n"
          ]
        },
        {
          "output_type": "display_data",
          "data": {
            "text/plain": [
              "<IPython.core.display.Markdown object>"
            ],
            "text/markdown": "Phantom pain is a real and often chronic pain that feels like it's coming from a body part that's no longer there. It's most common after an amputation, but can also occur after the removal of a body part that was congenitally missing (born without).\n\nHere's a breakdown of key aspects of phantom pain:\n\n**What it feels like:**\n\n*   **Burning:** A searing, intense heat sensation.\n*   **Shooting:** Sharp, stabbing, or electric-like jolts.\n*   **Cramping:** Muscle spasms or tight, constricted feelings.\n*   **Aching:** A dull, persistent throbbing.\n*   **Throbbing:** A rhythmic pulsing pain.\n*   **Stabbing:** A sharp, piercing pain.\n*   **Pin and needles:** Tingling or prickling sensation.\n*   **Pressure:** A squeezing or constricting feeling.\n*   **Twisting:** A sensation of the missing limb being contorted.\n*   **Feeling of the limb being present:** Even though the limb is gone, the person may feel its position, size, and shape.\n*   **Itching:** An annoying, persistent itch in the phantom limb.\n\n**Causes:**\n\nThe exact cause of phantom pain is not fully understood, but several theories exist:\n\n*   **Nerve Damage:** When a limb is amputated, nerves in the area are cut. These damaged nerves can continue to send pain signals to the brain.\n*   **Brain Rewiring (Cortical Reorganization):** The brain region that once controlled the amputated limb may become reorganized. This reorganization can lead to the brain misinterpreting signals or generating pain sensations. The area of the brain previously assigned to the missing limb may become taken over by an adjacent area; this can lead to sensations or pain in the phantom limb when the adjacent body part is stimulated.\n*   **Spinal Cord Changes:** Changes in the spinal cord after amputation can also contribute to pain signals.\n*   **Psychological Factors:** While not the primary cause, stress, anxiety, and depression can exacerbate phantom pain.\n*   **Memory of Pain:** Pain experienced before the amputation can become \"memorized\" by the nervous system and continue after the limb is gone.\n\n**Risk Factors:**\n\n*   **Pain before amputation:** People who experienced significant pain in the limb before amputation are more likely to develop phantom pain.\n*   **Poorly controlled pain after amputation:** If pain is not well managed immediately after amputation, it may increase the risk of developing chronic phantom pain.\n*   **Upper limb amputation:** Phantom pain tends to be more common after upper limb (arm or hand) amputation than lower limb (leg or foot) amputation.\n\n**Diagnosis:**\n\n*   Diagnosis is based on the patient's description of their pain and a physical exam.\n*   There are no specific tests to diagnose phantom pain.\n*   It's important to rule out other potential causes of pain, such as infection, nerve damage in the stump, or poor wound healing.\n\n**Treatment:**\n\nThere is no single cure for phantom pain, and treatment often involves a combination of therapies:\n\n*   **Medications:**\n    *   **Pain relievers:** Over-the-counter pain relievers (like acetaminophen or ibuprofen) may provide some relief for mild pain. Stronger opioid pain relievers are generally avoided because of the risk of addiction and often ineffectiveness for neuropathic pain.\n    *   **Antidepressants:** Some antidepressants, particularly tricyclic antidepressants (TCAs) and serotonin-norepinephrine reuptake inhibitors (SNRIs), can help reduce nerve pain.\n    *   **Anticonvulsants:** Medications used to treat seizures, such as gabapentin and pregabalin, can also be effective for nerve pain.\n    *   **NMDA receptor antagonists:** Medications like ketamine and memantine may help block pain signals in the brain.\n*   **Non-Medication Therapies:**\n    *   **Mirror Therapy:** The patient places their intact limb in front of a mirror, creating a visual illusion of having both limbs. This can help \"trick\" the brain into thinking the missing limb is still there and functioning, potentially reducing pain.\n    *   **TENS (Transcutaneous Electrical Nerve Stimulation):** A device delivers mild electrical pulses to the skin, which can help block pain signals.\n    *   **Acupuncture:** Can help stimulate the body's own pain-relieving mechanisms.\n    *   **Massage:** Gentle massage of the residual limb can improve circulation and reduce pain.\n    *   **Physical Therapy:** Exercise and stretching can help improve function, reduce pain, and prevent contractures.\n    *   **Occupational Therapy:**  Helps patients adapt to daily life with limb loss.\n    *   **Psychotherapy:** Cognitive-behavioral therapy (CBT) can help patients cope with pain, manage stress, and improve their overall well-being.  Helps patients develop coping skills and strategies for managing their pain.\n    *   **Virtual Reality Therapy:** Using VR to create immersive experiences that can retrain the brain and reduce pain.\n    *   **Prosthetic Use:**  Wearing a well-fitting prosthesis can help reduce pain and improve function.\n    *   **Surgery:** In rare cases, surgery may be considered to address nerve damage or other underlying issues contributing to pain.\n    *   **Guided Imagery and Relaxation Techniques:**  These techniques can help reduce stress and anxiety, which can worsen pain.\n    *   **Biofeedback:**  A technique that teaches patients how to control their body's responses to pain, such as heart rate and muscle tension.\n\n**Important Considerations:**\n\n*   **Early intervention is key:** The sooner phantom pain is addressed, the better the chances of managing it effectively.\n*   **It's a real condition:** Phantom pain is not \"all in your head.\" It's a complex neurological phenomenon.\n*   **Patience is essential:** Finding the right treatment plan may take time and experimentation.\n*   **Support groups can help:** Connecting with other people who have phantom pain can provide emotional support and practical advice.\n*   **Report all symptoms:** Be sure to tell your doctor about all your symptoms, including the type, intensity, location, and triggers of your pain.\n*   **Follow your doctor's recommendations:** Adhere to your treatment plan and attend follow-up appointments.\n\nIf you or someone you know is experiencing phantom pain, it's important to consult with a doctor or pain specialist. They can help diagnose the condition, develop a treatment plan, and provide support.\n"
          },
          "metadata": {}
        },
        {
          "name": "stdout",
          "output_type": "stream",
          "text": [
            "you:quit\n"
          ]
        }
      ]
    }
  ]
}