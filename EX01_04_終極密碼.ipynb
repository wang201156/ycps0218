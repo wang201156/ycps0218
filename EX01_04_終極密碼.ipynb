{
  "nbformat": 4,
  "nbformat_minor": 0,
  "metadata": {
    "colab": {
      "provenance": [],
      "authorship_tag": "ABX9TyMHrpMMS3lcd+t3D+uTdxav",
      "include_colab_link": true
    },
    "kernelspec": {
      "name": "python3",
      "display_name": "Python 3"
    },
    "language_info": {
      "name": "python"
    }
  },
  "cells": [
    {
      "cell_type": "markdown",
      "metadata": {
        "id": "view-in-github",
        "colab_type": "text"
      },
      "source": [
        "<a href=\"https://colab.research.google.com/github/wang201156/ycps0218/blob/main/EX01_04_%E7%B5%82%E6%A5%B5%E5%AF%86%E7%A2%BC.ipynb\" target=\"_parent\"><img src=\"https://colab.research.google.com/assets/colab-badge.svg\" alt=\"Open In Colab\"/></a>"
      ]
    },
    {
      "cell_type": "code",
      "execution_count": 7,
      "metadata": {
        "colab": {
          "base_uri": "https://localhost:8080/"
        },
        "id": "ZRiC4r4-tVwV",
        "outputId": "a4f39515-0db4-4b7e-c352-1498659debf5"
      },
      "outputs": [
        {
          "output_type": "stream",
          "name": "stdout",
          "text": [
            "0  -  100\n",
            "猜個數字:25\n",
            "太大\n",
            "0  -  25\n",
            "猜個數字:20\n",
            "太小\n",
            "20  -  25\n",
            "猜個數字:22\n",
            "太大\n",
            "20  -  22\n",
            "猜個數字:21\n",
            "答對了\n"
          ]
        }
      ],
      "source": [
        "import random\n",
        "nuke=random.randint(1,99)\n",
        "left=0\n",
        "right=100\n",
        "while True:\n",
        "    print(left,\" - \",right)\n",
        "    guess=int(input(\"猜個數字:\"))\n",
        "    if guess<=left or guess>=right:\n",
        "      print(\"超出範圍\")\n",
        "    elif guess<nuke:\n",
        "      left=guess\n",
        "      print(\"太小\")\n",
        "    elif guess>nuke:\n",
        "      right=guess\n",
        "      print(\"太大\")\n",
        "    else:\n",
        "      print(\"答對了\")\n",
        "      break"
      ]
    },
    {
      "cell_type": "code",
      "source": [],
      "metadata": {
        "id": "HoTiWAdP68d3"
      },
      "execution_count": null,
      "outputs": []
    }
  ]
}