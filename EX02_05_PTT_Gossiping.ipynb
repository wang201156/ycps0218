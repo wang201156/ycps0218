{
  "nbformat": 4,
  "nbformat_minor": 0,
  "metadata": {
    "colab": {
      "provenance": [],
      "authorship_tag": "ABX9TyPuzkaRdLt9d4GiR+3y/r8Q",
      "include_colab_link": true
    },
    "kernelspec": {
      "name": "python3",
      "display_name": "Python 3"
    },
    "language_info": {
      "name": "python"
    }
  },
  "cells": [
    {
      "cell_type": "markdown",
      "metadata": {
        "id": "view-in-github",
        "colab_type": "text"
      },
      "source": [
        "<a href=\"https://colab.research.google.com/github/wang201156/ycps0218/blob/main/EX02_05_PTT_Gossiping.ipynb\" target=\"_parent\"><img src=\"https://colab.research.google.com/assets/colab-badge.svg\" alt=\"Open In Colab\"/></a>"
      ]
    },
    {
      "cell_type": "code",
      "execution_count": 15,
      "metadata": {
        "colab": {
          "base_uri": "https://localhost:8080/"
        },
        "id": "H3A1uN-l4DzC",
        "outputId": "079d59f9-6d75-422f-d8e9-fa177394cc3f"
      },
      "outputs": [
        {
          "output_type": "stream",
          "name": "stdout",
          "text": [
            "200\n"
          ]
        }
      ],
      "source": [
        "import requests\n",
        "from bs4 import BeautifulSoup\n",
        "\n",
        "response = requests.get(\"https://www.ptt.cc/bbs/movie/index.html\")\n",
        "statuset_code = response.status_code\n",
        "print(statuset_code)"
      ]
    },
    {
      "cell_type": "code",
      "source": [
        "def get_data(url):\n",
        "  response = requests.get(url,cookies=cookies)\n",
        "  soup = BeautifulSoup(response.text,'lxml')\n",
        "  for atcl in soup.find_all('div',class_=\"r-ent\"):\n",
        "    if atcl.find('div',class_=\"title\").a:\n",
        "      title=atcl.find('div',class_=\"title\").a.text\n",
        "      href=atcl.find('div',class_=\"title\").a.get(\"href\")\n",
        "    else:\n",
        "      title=atcl.find('div',class_=\"title\").text\n",
        "      href=\"\"\n",
        "    date=atcl.find('div',class_=\"meta\").find('div',class_=\"date\").text\n",
        "    print(title,href,date)\n",
        "  url=\"https://www.ptt.cc\"+soup.find_all('a',class_=\"btn wide\")[1].get(\"href\")\n",
        "  return url\n",
        "\n",
        "url=\"https://www.ptt.cc/bbs/Gossiping/index.html\"\n",
        "cookies={\"over18\":\"1\"}\n",
        "for i in range(5):\n",
        "  url=get_data(url)\n",
        "\n"
      ],
      "metadata": {
        "colab": {
          "base_uri": "https://localhost:8080/"
        },
        "id": "-GgSDur47GzQ",
        "outputId": "e3c08c49-6432-42b3-bbe2-896dc0282018"
      },
      "execution_count": 16,
      "outputs": [
        {
          "output_type": "stream",
          "name": "stdout",
          "text": [
            "Re: [問卦] 在中國宣揚台獨會怎麼樣 /bbs/Gossiping/M.1742886853.A.F1F.html  3/25\n",
            "[問卦] 開獎看到這個如何調適 /bbs/Gossiping/M.1742886948.A.5E6.html  3/25\n",
            "Re: [問卦]  我不認同你的觀點 但是我誓死捍衛你說 /bbs/Gossiping/M.1742887010.A.89A.html  3/25\n",
            "Re: [問卦]  我不認同你的觀點 但是我誓死捍衛你說 /bbs/Gossiping/M.1742887012.A.67D.html  3/25\n",
            "[問卦] 亞亞真的太蠢了 /bbs/Gossiping/M.1742887027.A.5F3.html  3/25\n",
            "[問卦] 記者快來！中國網友一千留言要台灣放人 /bbs/Gossiping/M.1742887100.A.5F1.html  3/25\n",
            "[問卦] 一輩子只能吃速食店怎麼選 /bbs/Gossiping/M.1742887102.A.21F.html  3/25\n",
            "[問卦] 小微跟恩綺現在在幹嘛？ /bbs/Gossiping/M.1742887137.A.FF6.html  3/25\n",
            "[問卦] 金價會無止盡上漲嗎？ /bbs/Gossiping/M.1742887144.A.119.html  3/25\n",
            "[問卦]比特犬咬人很多人說是養的人問題 也不去領 /bbs/Gossiping/M.1742887156.A.6CE.html  3/25\n",
            "[新聞] 涮樂和牛羅東店食物中毒檢驗曝　疾管署： /bbs/Gossiping/M.1742887224.A.B0A.html  3/25\n",
            "Re: [問卦] 今天共配亞亞沒被強制出境 我就終身... /bbs/Gossiping/M.1742887252.A.1B7.html  3/25\n",
            "[問卦] 中共是敵國戰機越線怎麼不打下來 /bbs/Gossiping/M.1742887283.A.F64.html  3/25\n",
            "Re: [問卦] 華爾街日報：中國準備封鎖台灣？ /bbs/Gossiping/M.1742887369.A.A76.html  3/25\n",
            "[問卦] threads閃退 腫模辦？ /bbs/Gossiping/M.1742887415.A.95A.html  3/25\n",
            "Re: [問卦] 減肥怎麼樣都減不下來？ /bbs/Gossiping/M.1742887430.A.EBB.html  3/25\n",
            "Re: [問卦]  我不認同你的觀點 但是我誓死捍衛你說 /bbs/Gossiping/M.1742887438.A.BA6.html  3/25\n",
            "[問卦] 現在加入統一教還來的及嗎？ /bbs/Gossiping/M.1742887459.A.DD0.html  3/25\n",
            "[問卦] 為什麼中國北方空氣比南方差？ /bbs/Gossiping/M.1742887523.A.9D8.html  3/25\n",
            "Re: [新聞] 被批耍特權…彰縣議員賴清美派出所停車被 /bbs/Gossiping/M.1742887594.A.FFE.html  3/25\n",
            "Fw: [公告] 請留意新註冊帳號使用信件詐騙 /bbs/Gossiping/M.1730554547.A.41C.html 11/02\n",
            "[公告] 八卦板板規(2025.01.21) /bbs/Gossiping/M.1737398137.A.644.html  1/21\n",
            "[公告]  春季大反攻！！八卦板主徵選報名開始捏 /bbs/Gossiping/M.1740024219.A.1EB.html  2/20\n",
            "Fw: [公告] 請避免與登入1次之帳號進行交易 發錢 /bbs/Gossiping/M.1741791500.A.EB6.html  3/12\n",
            "[問卦] 中國官方怎麼看亞亞被送回國？ /bbs/Gossiping/M.1742886039.A.5D0.html  3/25\n",
            "[問卦]  我不認同你的觀點 但是我誓死捍衛你說 /bbs/Gossiping/M.1742886055.A.DBF.html  3/25\n",
            "Re: [問卦] 在中國宣揚台獨會怎麼樣 /bbs/Gossiping/M.1742886141.A.727.html  3/25\n",
            "[問卦] 子爵夫人比「2」是什麼意思？ /bbs/Gossiping/M.1742886165.A.FAA.html  3/25\n",
            "[問卦] 看不懂獵人是正常的嗎 /bbs/Gossiping/M.1742886190.A.643.html  3/25\n",
            "[新聞] 普發1萬領得到？謝龍介說賴清德可能還會 /bbs/Gossiping/M.1742886289.A.7AD.html  3/25\n",
            "[問卦] HPV 9價疫苗 打完第2劑後的防護力多少 /bbs/Gossiping/M.1742886293.A.4BD.html  3/25\n",
            "[問卦] 公司地址宅配週六無法收，是誰的錯 /bbs/Gossiping/M.1742886304.A.876.html  3/25\n",
            "Re: [問卦] 在中國宣揚台獨會怎麼樣 /bbs/Gossiping/M.1742886333.A.254.html  3/25\n",
            "Re: [問卦]  我不認同你的觀點 但是我誓死捍衛你說 /bbs/Gossiping/M.1742886358.A.63D.html  3/25\n",
            "[問卦] 為什麼台灣網紅這麼重要？ /bbs/Gossiping/M.1742886375.A.59B.html  3/25\n",
            "[問卦] 減肥怎麼樣都減不下來？ /bbs/Gossiping/M.1742886420.A.32D.html  3/25\n",
            "[新聞] 林志潔遭質疑「請咖啡甜點換連署」 辯這 /bbs/Gossiping/M.1742886425.A.89A.html  3/25\n",
            "Re: [問卦] 亞亞的老公到底是誰？姓黃？姓余？ /bbs/Gossiping/M.1742886520.A.894.html  3/25\n",
            "Re: [問卦] 在中國宣揚台獨會怎麼樣 /bbs/Gossiping/M.1742886548.A.CB1.html  3/25\n",
            "[問卦] 亞亞今天23：59開始在廁所大便 /bbs/Gossiping/M.1742886571.A.5B2.html  3/25\n",
            "[問卦] 亞亞的先生可以申請國賠嗎 /bbs/Gossiping/M.1742886574.A.7AE.html  3/25\n",
            "[問卦] 我們與惡的距離II被目標觀眾群抵制了 /bbs/Gossiping/M.1742886582.A.734.html  3/25\n",
            "Re: [問卦]  我不認同你的觀點 但是我誓死捍衛你說 /bbs/Gossiping/M.1742886780.A.D39.html  3/25\n",
            "Re: [問卦]  我不認同你的觀點 但是我誓死捍衛你說 /bbs/Gossiping/M.1742886787.A.671.html  3/25\n",
            "Re: [問卦]亞亞最後絕招是不是只剩公開支持台獨 /bbs/Gossiping/M.1742885099.A.2F5.html  3/25\n",
            "[問卦] 中國政府真的很有錢！！ /bbs/Gossiping/M.1742885188.A.A08.html  3/25\n",
            "[問卦] 還有人記得假電子發票和假環保袋嗎？ /bbs/Gossiping/M.1742885222.A.0A1.html  3/25\n",
            "Re: [新聞] 「胖一點」能抗癌？醫證實：存活率比 /bbs/Gossiping/M.1742885280.A.129.html  3/25\n",
            "[新聞] 快訊／東京地方法院下令「統一教」解散！ /bbs/Gossiping/M.1742885375.A.F7E.html  3/25\n",
            "[問卦] 台灣9年來沒什麼變？ /bbs/Gossiping/M.1742885408.A.CDC.html  3/25\n",
            "[新聞] 近三年預售屋賣約5.4兆元 業者：未來房 /bbs/Gossiping/M.1742885457.A.2BC.html  3/25\n",
            "Re: [問卦] 華爾街日報：中國準備封鎖台灣？ /bbs/Gossiping/M.1742885463.A.29C.html  3/25\n",
            "[問卦] 吃到飽店員會不會很討厭只點同一樣東西的 /bbs/Gossiping/M.1742885538.A.A9C.html  3/25\n",
            "Re: [問卦] 在中國宣揚台獨會怎麼樣 /bbs/Gossiping/M.1742885551.A.EEE.html  3/25\n",
            "[問卦] 物價飆漲後，行情變得好亂 /bbs/Gossiping/M.1742885572.A.490.html  3/25\n",
            "[問卦] 要是亞亞自殺的話 你各位都是殺人兇手 /bbs/Gossiping/M.1742885610.A.DF3.html  3/25\n",
            "[新聞] 首購悲歌！千萬元內建案行政區剩9個 專家 /bbs/Gossiping/M.1742885643.A.D0D.html  3/25\n",
            "[問卦] 亞亞是誰 很重要嗎？ /bbs/Gossiping/M.1742885648.A.49F.html  3/25\n",
            "[問卦] 台灣水價是不是真的非常的便宜？？ /bbs/Gossiping/M.1742885764.A.432.html  3/25\n",
            "[問卦] 其實吃到飽吃太多真的會被黑名單嗎 /bbs/Gossiping/M.1742885770.A.7A3.html  3/25\n",
            "[問卦] 有沒有換位置換腦袋怎麼調適的卦 /bbs/Gossiping/M.1742885792.A.14A.html  3/25\n",
            "[問卦] 宣揚五筒跟包大陸二奶哪個嚴重 /bbs/Gossiping/M.1742885895.A.7D9.html  3/25\n",
            "Re: [問卦] 要是亞亞自殺的話 你各位都是殺人兇手 /bbs/Gossiping/M.1742885968.A.B6E.html  3/25\n",
            "[問卦] 亞亞跟八炯 有沒有同文同種的味道 /bbs/Gossiping/M.1742886010.A.FC2.html  3/25\n",
            "Re: [新聞] 快訊／大逆轉！借派出所臨停挨轟耍特權 /bbs/Gossiping/M.1742884284.A.D53.html  3/25\n",
            "[新聞] 很忙！出席藍罷團「地動刪瑤」總部　朱 /bbs/Gossiping/M.1742884296.A.218.html  3/25\n",
            "[問卦] 哪時候才會重視工安？ /bbs/Gossiping/M.1742884313.A.69C.html  3/25\n",
            "[問卦] 劍湖山484快不行了？ /bbs/Gossiping/M.1742884342.A.EC0.html  3/25\n",
            "[問卦] 喜歡泰國妹勝於日本妹正常嗎？ /bbs/Gossiping/M.1742884344.A.276.html  3/25\n",
            "[問卦] 關稅戰開始了嗎 /bbs/Gossiping/M.1742884380.A.B52.html  3/25\n",
            "[問卦] 常把財富自由掛在嘴邊的工作有哪些？ /bbs/Gossiping/M.1742884399.A.4EC.html  3/25\n",
            "[問卦] 謝祖武這輩子有沒有演過一個知名律師角色 /bbs/Gossiping/M.1742884476.A.0C3.html  3/25\n",
            "\n",
            "\t\t\t\n",
            "\t\t\t\t(本文已被刪除) [toughlove]\n",
            "\t\t\t\n",
            "\t\t\t   3/25\n",
            "[問卦] 如果一陣子沒中國新聞會怎樣 /bbs/Gossiping/M.1742884576.A.FBB.html  3/25\n",
            "[新聞] 離台倒數！亞亞拒絕出境　移民署將強制 /bbs/Gossiping/M.1742884684.A.C5E.html  3/25\n",
            "[問卦] 為什麼分享美食要放假臉 /bbs/Gossiping/M.1742884684.A.D91.html  3/25\n",
            "[問卦] 統整一下現在各地雞排都多少？ /bbs/Gossiping/M.1742884765.A.91D.html  3/25\n",
            "[問卦] 現下要怎麼省錢又吃出健康？ /bbs/Gossiping/M.1742884847.A.6AC.html  3/25\n",
            "Re: [問卦] 兩岸戰爭 不靠美國台灣要如何才守得住？ /bbs/Gossiping/M.1742884919.A.4AB.html  3/25\n",
            "[問卦] 甲片影劇為何台灣拍不贏泰國 /bbs/Gossiping/M.1742884935.A.6E3.html  3/25\n",
            "[問卦] 金秀賢上台做什麼才能洗白？ /bbs/Gossiping/M.1742884965.A.673.html  3/25\n",
            "[問卦] 讀復興中學的都是非富即貴嗎？ /bbs/Gossiping/M.1742884967.A.2D9.html  3/25\n",
            "[問卦] 在中國宣揚台獨會怎麼樣 /bbs/Gossiping/M.1742885022.A.0A7.html  3/25\n",
            "[問卦] 女生要是太緊 叫你憋一下先別射該怎辦? /bbs/Gossiping/M.1742885050.A.860.html  3/25\n",
            "[新聞] 國民黨曝：年輕人吹起「台灣人反綠」風 /bbs/Gossiping/M.1742883696.A.9A9.html  3/25\n",
            "\n",
            "\t\t\t\n",
            "\t\t\t\t(本文已被刪除) [ar0387959310]\n",
            "\t\t\t\n",
            "\t\t\t   3/25\n",
            "[問卦] 西班牙、荷蘭、法蘭西要武統台灣會怎樣 /bbs/Gossiping/M.1742883807.A.F6E.html  3/25\n",
            "Re: [問卦] 沒人發現日本人莫名奇妙就跌落神壇了嗎！ /bbs/Gossiping/M.1742883822.A.4C0.html  3/25\n",
            "Re: [問卦] 有蘋果筆電的人很愛拿出來秀? /bbs/Gossiping/M.1742883884.A.73B.html  3/25\n",
            "[問卦] 孤獨美食家的主角還能吃幾年？ /bbs/Gossiping/M.1742883900.A.FBE.html  3/25\n",
            "Re: [問卦] 捷運上一直咳又不帶口罩有心理疾病嗎 /bbs/Gossiping/M.1742883931.A.C09.html  3/25\n",
            "[問卦] 大家有多久沒中過統一發票? /bbs/Gossiping/M.1742883985.A.CC7.html  3/25\n",
            "[問卦] 蝦皮自取店 櫃位裡有不同人包裹？ /bbs/Gossiping/M.1742883992.A.F82.html  3/25\n",
            "[問卦] 太大會叫女友忍一下嗎？ /bbs/Gossiping/M.1742884007.A.4C2.html  3/25\n",
            "[問卦] 為啥以前老闆不會用即時通辦公 /bbs/Gossiping/M.1742884025.A.D1B.html  3/25\n",
            "[問卦] 多喝水真的有益身體健康嗎？   /bbs/Gossiping/M.1742884032.A.39F.html  3/25\n",
            "[問卦] 羅傑的巔峰是在第一集嗎 /bbs/Gossiping/M.1742884046.A.B69.html  3/25\n",
            "[問卦] 行人專用號誌是萬靈丹嗎 /bbs/Gossiping/M.1742884077.A.79A.html  3/25\n",
            "[新聞] 槓陸配亞亞！　八炯、閩南狼衝內政部「 /bbs/Gossiping/M.1742884123.A.F23.html  3/25\n",
            "Re: [新聞] 藍提反廢死反戒嚴公投 卓榮泰盼能停止就 /bbs/Gossiping/M.1742884191.A.262.html  3/25\n",
            "[問卦] 想對發票但還在上班 /bbs/Gossiping/M.1742884200.A.9B0.html  3/25\n",
            "[問卦] 找越南妹當老婆要花多少錢 /bbs/Gossiping/M.1742884201.A.5F0.html  3/25\n",
            "[問卦] 兩岸戰爭 不靠美國台灣要如何才守得住？ /bbs/Gossiping/M.1742884239.A.51A.html  3/25\n",
            "Re: [問卦] 日本最大的陵墓埋的是中國人呀 /bbs/Gossiping/M.1742884264.A.37D.html  3/25\n"
          ]
        }
      ]
    }
  ]
}