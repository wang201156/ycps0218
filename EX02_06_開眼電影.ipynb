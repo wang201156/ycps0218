{
  "nbformat": 4,
  "nbformat_minor": 0,
  "metadata": {
    "colab": {
      "provenance": [],
      "authorship_tag": "ABX9TyM0Q4nWommDChw2v72imT4H",
      "include_colab_link": true
    },
    "kernelspec": {
      "name": "python3",
      "display_name": "Python 3"
    },
    "language_info": {
      "name": "python"
    }
  },
  "cells": [
    {
      "cell_type": "markdown",
      "metadata": {
        "id": "view-in-github",
        "colab_type": "text"
      },
      "source": [
        "<a href=\"https://colab.research.google.com/github/wang201156/ycps0218/blob/main/EX02_06_%E9%96%8B%E7%9C%BC%E9%9B%BB%E5%BD%B1.ipynb\" target=\"_parent\"><img src=\"https://colab.research.google.com/assets/colab-badge.svg\" alt=\"Open In Colab\"/></a>"
      ]
    },
    {
      "cell_type": "code",
      "execution_count": 25,
      "metadata": {
        "colab": {
          "base_uri": "https://localhost:8080/"
        },
        "id": "fMBK6zqTOEso",
        "outputId": "f5bdfbfd-5fe5-4c24-8188-bfba042b6748"
      },
      "outputs": [
        {
          "output_type": "stream",
          "name": "stdout",
          "text": [
            "200\n"
          ]
        }
      ],
      "source": [
        "import requests\n",
        "from bs4 import BeautifulSoup\n",
        "import csv\n",
        "import os\n",
        "\n",
        "if not os.path.exists(\"/content/data\"):\n",
        "    os.mkdir(\"/content/data\")\n",
        "\n",
        "url=\"http://www.atmovies.com.tw/movie/next/\"\n",
        "response = requests.get(url)\n",
        "response.encoding = 'utf-8'\n",
        "soup = BeautifulSoup(response.text,'lxml')\n",
        "statuset_code = response.status_code\n",
        "print(statuset_code)"
      ]
    },
    {
      "cell_type": "code",
      "source": [
        "movies=[[\"電影\"],[\"上映日期\"]]\n",
        "for mv in soup.find('ul',class_=\"filmListAllX\").find_all(\"li\"):\n",
        "    title=mv.img[\"alt\"]\n",
        "    src=mv.img[\"src\"].strip()\n",
        "    date=mv.find('div',class_=\"runtime\").text\n",
        "    date=date[5:15]\n",
        "    movies.append([title,date])\n",
        "    print(title,src,date)\n",
        "\n",
        "    img_url=requests.get(src)\n",
        "\n",
        "    with open (f\"/content/data/{title}.jpg\",\"wb\")as f:\n",
        "        f.write(img_url.content)\n",
        "\n",
        "with open(\"/content/data/movie.csv\",\"w\",newline=\"\")as f:\n",
        "    writer=csv.writer(f)\n",
        "    writer.writerows(movies)\n"
      ],
      "metadata": {
        "colab": {
          "base_uri": "https://localhost:8080/"
        },
        "id": "OTXrWSp7Oa4I",
        "outputId": "24b056f9-787a-441d-923f-07b1101a99c6"
      },
      "execution_count": 27,
      "outputs": [
        {
          "output_type": "stream",
          "name": "stdout",
          "text": [
            "我依然在此 http://www.atmovies.com.tw/photo101/fipt14961016/pl_fipt14961016_0002.jpg 2025/04/02\n",
            "MINECRAFT麥塊電影 http://www.atmovies.com.tw/photo101/faen83566834/pl_faen83566834_0005.jpg 2025/04/02\n",
            "會計師 2 http://www.atmovies.com.tw/photo101/faen47068946/pl_faen47068946_0001.jpg 2025/04/24\n",
            "直到黎明 http://www.atmovies.com.tw/photo101/fuen30955489/pl_fuen30955489_0001.jpg 2025/04/25\n",
            "黑袋行動 http://www.atmovies.com.tw/photo101/fben30988739/pl_fben30988739_0001.jpg 2025/04/30\n",
            "雷霆特攻隊* http://www.atmovies.com.tw/photo101/ften20969586/pl_ften20969586_0005.jpg 2025/04/30\n",
            "不可能的任務：最終清算 http://www.atmovies.com.tw/photo101/fmen62168299/pl_fmen62168299_0003.jpg 2025/05/23\n",
            "馴龍高手 http://www.atmovies.com.tw/photo101/fhen26743210/pl_fhen26743210_0001.jpg 2025/06/11\n",
            "天作之合 http://www.atmovies.com.tw/photo101/fmen30253473/pl_fmen30253473_0001.jpg 2025/06/13\n",
            "28年毀滅倒數 http://www.atmovies.com.tw/photo101/fyen10548174/pl_fyen10548174_0001.jpg 2025/06/18\n",
            "名偵探柯南：獨眼的殘像 http://www.atmovies.com.tw/photo101/fdjp35891502/pl_fdjp35891502_0001.jpg 2025/06/25\n",
            "F1® http://www.atmovies.com.tw/photo101/ffen16311594/pl_ffen16311594_0001.jpg 2025/06/26\n",
            "窒友梅根 2.0 http://www.atmovies.com.tw/photo101/fmen26342662/pl_fmen26342662_0001.jpg 2025/06/27\n",
            "侏羅紀世界：重生 http://www.atmovies.com.tw/photo101/fjen31036941/pl_fjen31036941_0001.jpg 2025/07/04\n",
            "超人 http://www.atmovies.com.tw/photo101/fsen45950044/pl_fsen45950044_0001.jpg 2025/07/11\n",
            "驚奇4超人：第一步 http://www.atmovies.com.tw/photo101/ffen10676052/pl_ffen10676052_0007.jpg 2025/07/23\n",
            "壞蛋聯盟2 http://www.atmovies.com.tw/photo101/fben30017619/pl_fben30017619_0001.jpg 2025/08/01\n",
            "劇場版「鬼滅之刃」無限城篇 http://www.atmovies.com.tw/photo101/fdjp32820897/pl_fdjp32820897_0001.jpg 2025/08/08\n",
            "動物方城市2 http://www.atmovies.com.tw/photo101/fzen31187839/pl_fzen31187839_0001.jpg 2025/11/26\n",
            "阿凡達：火與灰燼 http://www.atmovies.com.tw/photo101/faen71757678/pl_faen71757678_0001.jpg 2025/12/18\n",
            "玩具總動員5 http://www.atmovies.com.tw/photo101/ften29355505/pl_ften29355505_0001.jpg 2026/06/19\n"
          ]
        }
      ]
    }
  ]
}