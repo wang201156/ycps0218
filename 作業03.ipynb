{
  "nbformat": 4,
  "nbformat_minor": 0,
  "metadata": {
    "colab": {
      "provenance": [],
      "authorship_tag": "ABX9TyMyC9CRj4gOK8S4bKaEAIpd",
      "include_colab_link": true
    },
    "kernelspec": {
      "name": "python3",
      "display_name": "Python 3"
    },
    "language_info": {
      "name": "python"
    }
  },
  "cells": [
    {
      "cell_type": "markdown",
      "metadata": {
        "id": "view-in-github",
        "colab_type": "text"
      },
      "source": [
        "<a href=\"https://colab.research.google.com/github/wang201156/ycps0218/blob/main/%E4%BD%9C%E6%A5%AD03.ipynb\" target=\"_parent\"><img src=\"https://colab.research.google.com/assets/colab-badge.svg\" alt=\"Open In Colab\"/></a>"
      ]
    },
    {
      "cell_type": "code",
      "execution_count": null,
      "metadata": {
        "id": "KsdV2vd-EEn8"
      },
      "outputs": [],
      "source": []
    },
    {
      "cell_type": "markdown",
      "source": [
        "# HW03 Data Analysis"
      ],
      "metadata": {
        "id": "2WSRSBtVb3Bc"
      }
    },
    {
      "cell_type": "markdown",
      "source": [
        "## 標題：新婚人數與教育程度分析報告"
      ],
      "metadata": {
        "id": "F_ItKw0ab7a2"
      }
    },
    {
      "cell_type": "markdown",
      "source": [
        "## 摘要"
      ],
      "metadata": {
        "id": "W6K3yshicMNP"
      }
    },
    {
      "cell_type": "markdown",
      "source": [
        "本報告基於內政部的婚姻狀況統計資料，探討新郎與新娘在不同年齡區間的教育程度分佈情形。透過資料清理與視覺化，繪製圖表，比較性別之間的教育背景差異，進一步觀察是否存在特定年齡層偏好的教育程度結構。本報告提供對婚姻年齡與教育背景之間關係的初步洞察，並有助於人口統計領域之應用。"
      ],
      "metadata": {
        "id": "pAdGh_VXcQr-"
      }
    },
    {
      "cell_type": "markdown",
      "source": [
        "## 引言"
      ],
      "metadata": {
        "id": "VFQON7oAcXaS"
      }
    },
    {
      "cell_type": "markdown",
      "source": [
        "### 背景\n",
        "在社會與人口結構的研究中，婚姻年齡與教育程度是兩項重要的分析變數。了解新婚男女在各年齡區間的教育程度分佈，不僅可以揭示婚姻市場的趨勢與變化，也能反映出教育與婚姻之間潛在的交互關係。\n",
        "\n",
        "### 目的\n",
        "本研究旨在視覺化並比較新郎與新娘在各年齡區間的教育程度構成，呈現不同教育背景的分佈情況，從而提供更全面的婚姻結構理解。\n",
        "### 待答問題\n",
        "1.在不同年齡區間，新郎與新娘的教育程度分佈是否相似？   \n",
        "2.哪些年齡區間的結婚人數最多？   \n",
        "3.教育程度是否與婚齡存在明顯的趨勢關係（例如高學歷者偏向晚婚）？  \n",
        ""
      ],
      "metadata": {
        "id": "caLnttQ7ceq-"
      }
    },
    {
      "cell_type": "markdown",
      "source": [
        "## 方法"
      ],
      "metadata": {
        "id": "KLbhbO52ciaA"
      }
    },
    {
      "cell_type": "markdown",
      "source": [
        "### 數據來源\n",
        "本研究使用的數據來自內政部人口統計中的**初婚人數-按國籍年齡教育程度(2023年)**，\n",
        "其中包括新郎與新娘的初婚年齡區間及其對應的教育程度人數統計。\n",
        "\n",
        "### 分析工具\n",
        "- **Python**（數據處理與分析）\n",
        "- **Pandas**（數據清理與統計分析）\n",
        "- **Matplotlib / Seaborn**（數據視覺化）\n",
        "\n",
        "### 數據處理\n",
        "擷取新郎與新娘資料，整理欄位與教育分類。\n",
        "\n",
        "移除「總計」與空值行，避免干擾分佈。\n",
        "\n",
        "將教育程度數據轉為數值型態以利後續計算與繪圖。\n"
      ],
      "metadata": {
        "id": "4qs1N4JYcoKB"
      }
    },
    {
      "cell_type": "code",
      "source": [
        "!pip install pandas openpyxl\n",
        "!pip install odfpy\n",
        "import pandas as pd\n",
        "import seaborn as sns\n",
        "import matplotlib.pyplot as plt\n",
        "\n",
        "!wget -O taipei_sans_tc_beta.ttf https://drive.google.com/uc?id=1eGAsTN1HBpJAkeVM57_C7ccp7hbgSz3_&export=download\n",
        "import matplotlib.font_manager\n",
        "\n",
        "# 新增字體\n",
        "matplotlib.font_manager.fontManager.addfont('taipei_sans_tc_beta.ttf')\n",
        "# 設定中文字型及負號正確顯示\n",
        "plt.rcParams['font.sans-serif'] = 'Taipei Sans TC Beta'\n",
        "plt.rcParams[\"axes.unicode_minus\"] = False"
      ],
      "metadata": {
        "id": "4SVL-EFec0iE"
      },
      "execution_count": null,
      "outputs": []
    },
    {
      "cell_type": "code",
      "source": [
        "#讀取\n",
        "df_raw = pd.read_excel('/content/ps01-21.ods', engine='odf', skiprows=4)\n",
        "\n",
        "\n",
        "# 取新郎部分的資料\n",
        "columns = ['年齡區間', '合計', '博士畢業', '碩士畢業', '大學畢業', '專科畢業', '高中畢業', '初中畢業', '國小畢業以下']\n",
        "df_groom = df_raw.iloc[:, 0:9]\n",
        "df_groom.columns = columns\n",
        "\n",
        "# 去除 \"總計\" 與空值行，將空值變為0\n",
        "df_groom = df_groom[~df_groom['年齡區間'].str.contains('總|未滿', na=False)]\n",
        "# 去除第 13 到第 18 行\n",
        "df_groom = df_groom.drop(index=[13, 14, 15, 16, 17, 18])\n",
        "# 將數據中的空值填充為 0\n",
        "df_groom.fillna(0, inplace=True)\n",
        "# 將數據轉換為整數\n",
        "for col in columns[1:]:\n",
        "    df_groom[col] = pd.to_numeric(df_groom[col], errors='coerce')\n",
        "\n",
        "\n",
        "# 擷取新娘資料欄位（欄位索引從第 9 欄開始）\n",
        "df_bride = pd.concat([\n",
        "    df_raw.iloc[:, [0]],   # 年齡區間\n",
        "    df_raw.iloc[:, 9:17]   # 新娘的8個教育程度分類\n",
        "], axis=1)\n",
        "df_bride.columns = columns\n",
        "\n",
        "df_bride = df_bride[~df_bride['年齡區間'].str.contains('總|未滿', na=False)]\n",
        "df_bride = df_bride.drop(index=[13, 14, 15, 16, 17, 18])\n",
        "df_bride.fillna(0, inplace=True)\n",
        "for col in columns[1:]:\n",
        "    df_bride[col] = pd.to_numeric(df_bride[col], errors='coerce')\n",
        "\n",
        "\n",
        "#以新郎數據展示\n",
        "df_groom"
      ],
      "metadata": {
        "colab": {
          "base_uri": "https://localhost:8080/",
          "height": 394
        },
        "id": "ihneNCIEAa6Y",
        "outputId": "9d192b5d-6049-488c-c943-9702733c4a9b"
      },
      "execution_count": 22,
      "outputs": [
        {
          "output_type": "execute_result",
          "data": {
            "text/plain": [
              "         年齡區間       合計   博士畢業    碩士畢業     大學畢業    專科畢業    高中畢業    初中畢業  國小畢業以下\n",
              "2   15 - 19 歲    676.0    0.0     0.0      0.0     0.0   151.0   517.0     8.0\n",
              "3   20 - 24 歲   7240.0    0.0    33.0   1058.0   198.0  3663.0  2238.0    50.0\n",
              "4   25 - 29 歲  28437.0   65.0  2927.0  14270.0  1197.0  7751.0  2146.0    81.0\n",
              "5   30 - 34 歲  35239.0  294.0  6921.0  19040.0  1061.0  6289.0  1533.0   101.0\n",
              "6   35 - 39 歲  17883.0  283.0  3585.0   8399.0   878.0  3444.0  1163.0   131.0\n",
              "7   40 - 44 歲   8024.0  159.0  1140.0   2910.0   862.0  2150.0   719.0    84.0\n",
              "8   45 - 49 歲   2870.0   53.0   301.0    813.0   457.0   822.0   366.0    58.0\n",
              "9   50 - 54 歲   1194.0   25.0   131.0    304.0   154.0   347.0   196.0    37.0\n",
              "10  55 - 59 歲    615.0   15.0    48.0    134.0    85.0   177.0   124.0    32.0\n",
              "11  60 - 64 歲    294.0    7.0    21.0     65.0    19.0    94.0    68.0    20.0\n",
              "12      65歲以上    249.0   15.0    23.0     73.0    14.0    50.0    38.0    36.0"
            ],
            "text/html": [
              "\n",
              "  <div id=\"df-ab019893-1445-4ac3-a159-d650e797a0b8\" class=\"colab-df-container\">\n",
              "    <div>\n",
              "<style scoped>\n",
              "    .dataframe tbody tr th:only-of-type {\n",
              "        vertical-align: middle;\n",
              "    }\n",
              "\n",
              "    .dataframe tbody tr th {\n",
              "        vertical-align: top;\n",
              "    }\n",
              "\n",
              "    .dataframe thead th {\n",
              "        text-align: right;\n",
              "    }\n",
              "</style>\n",
              "<table border=\"1\" class=\"dataframe\">\n",
              "  <thead>\n",
              "    <tr style=\"text-align: right;\">\n",
              "      <th></th>\n",
              "      <th>年齡區間</th>\n",
              "      <th>合計</th>\n",
              "      <th>博士畢業</th>\n",
              "      <th>碩士畢業</th>\n",
              "      <th>大學畢業</th>\n",
              "      <th>專科畢業</th>\n",
              "      <th>高中畢業</th>\n",
              "      <th>初中畢業</th>\n",
              "      <th>國小畢業以下</th>\n",
              "    </tr>\n",
              "  </thead>\n",
              "  <tbody>\n",
              "    <tr>\n",
              "      <th>2</th>\n",
              "      <td>15 - 19 歲</td>\n",
              "      <td>676.0</td>\n",
              "      <td>0.0</td>\n",
              "      <td>0.0</td>\n",
              "      <td>0.0</td>\n",
              "      <td>0.0</td>\n",
              "      <td>151.0</td>\n",
              "      <td>517.0</td>\n",
              "      <td>8.0</td>\n",
              "    </tr>\n",
              "    <tr>\n",
              "      <th>3</th>\n",
              "      <td>20 - 24 歲</td>\n",
              "      <td>7240.0</td>\n",
              "      <td>0.0</td>\n",
              "      <td>33.0</td>\n",
              "      <td>1058.0</td>\n",
              "      <td>198.0</td>\n",
              "      <td>3663.0</td>\n",
              "      <td>2238.0</td>\n",
              "      <td>50.0</td>\n",
              "    </tr>\n",
              "    <tr>\n",
              "      <th>4</th>\n",
              "      <td>25 - 29 歲</td>\n",
              "      <td>28437.0</td>\n",
              "      <td>65.0</td>\n",
              "      <td>2927.0</td>\n",
              "      <td>14270.0</td>\n",
              "      <td>1197.0</td>\n",
              "      <td>7751.0</td>\n",
              "      <td>2146.0</td>\n",
              "      <td>81.0</td>\n",
              "    </tr>\n",
              "    <tr>\n",
              "      <th>5</th>\n",
              "      <td>30 - 34 歲</td>\n",
              "      <td>35239.0</td>\n",
              "      <td>294.0</td>\n",
              "      <td>6921.0</td>\n",
              "      <td>19040.0</td>\n",
              "      <td>1061.0</td>\n",
              "      <td>6289.0</td>\n",
              "      <td>1533.0</td>\n",
              "      <td>101.0</td>\n",
              "    </tr>\n",
              "    <tr>\n",
              "      <th>6</th>\n",
              "      <td>35 - 39 歲</td>\n",
              "      <td>17883.0</td>\n",
              "      <td>283.0</td>\n",
              "      <td>3585.0</td>\n",
              "      <td>8399.0</td>\n",
              "      <td>878.0</td>\n",
              "      <td>3444.0</td>\n",
              "      <td>1163.0</td>\n",
              "      <td>131.0</td>\n",
              "    </tr>\n",
              "    <tr>\n",
              "      <th>7</th>\n",
              "      <td>40 - 44 歲</td>\n",
              "      <td>8024.0</td>\n",
              "      <td>159.0</td>\n",
              "      <td>1140.0</td>\n",
              "      <td>2910.0</td>\n",
              "      <td>862.0</td>\n",
              "      <td>2150.0</td>\n",
              "      <td>719.0</td>\n",
              "      <td>84.0</td>\n",
              "    </tr>\n",
              "    <tr>\n",
              "      <th>8</th>\n",
              "      <td>45 - 49 歲</td>\n",
              "      <td>2870.0</td>\n",
              "      <td>53.0</td>\n",
              "      <td>301.0</td>\n",
              "      <td>813.0</td>\n",
              "      <td>457.0</td>\n",
              "      <td>822.0</td>\n",
              "      <td>366.0</td>\n",
              "      <td>58.0</td>\n",
              "    </tr>\n",
              "    <tr>\n",
              "      <th>9</th>\n",
              "      <td>50 - 54 歲</td>\n",
              "      <td>1194.0</td>\n",
              "      <td>25.0</td>\n",
              "      <td>131.0</td>\n",
              "      <td>304.0</td>\n",
              "      <td>154.0</td>\n",
              "      <td>347.0</td>\n",
              "      <td>196.0</td>\n",
              "      <td>37.0</td>\n",
              "    </tr>\n",
              "    <tr>\n",
              "      <th>10</th>\n",
              "      <td>55 - 59 歲</td>\n",
              "      <td>615.0</td>\n",
              "      <td>15.0</td>\n",
              "      <td>48.0</td>\n",
              "      <td>134.0</td>\n",
              "      <td>85.0</td>\n",
              "      <td>177.0</td>\n",
              "      <td>124.0</td>\n",
              "      <td>32.0</td>\n",
              "    </tr>\n",
              "    <tr>\n",
              "      <th>11</th>\n",
              "      <td>60 - 64 歲</td>\n",
              "      <td>294.0</td>\n",
              "      <td>7.0</td>\n",
              "      <td>21.0</td>\n",
              "      <td>65.0</td>\n",
              "      <td>19.0</td>\n",
              "      <td>94.0</td>\n",
              "      <td>68.0</td>\n",
              "      <td>20.0</td>\n",
              "    </tr>\n",
              "    <tr>\n",
              "      <th>12</th>\n",
              "      <td>65歲以上</td>\n",
              "      <td>249.0</td>\n",
              "      <td>15.0</td>\n",
              "      <td>23.0</td>\n",
              "      <td>73.0</td>\n",
              "      <td>14.0</td>\n",
              "      <td>50.0</td>\n",
              "      <td>38.0</td>\n",
              "      <td>36.0</td>\n",
              "    </tr>\n",
              "  </tbody>\n",
              "</table>\n",
              "</div>\n",
              "    <div class=\"colab-df-buttons\">\n",
              "\n",
              "  <div class=\"colab-df-container\">\n",
              "    <button class=\"colab-df-convert\" onclick=\"convertToInteractive('df-ab019893-1445-4ac3-a159-d650e797a0b8')\"\n",
              "            title=\"Convert this dataframe to an interactive table.\"\n",
              "            style=\"display:none;\">\n",
              "\n",
              "  <svg xmlns=\"http://www.w3.org/2000/svg\" height=\"24px\" viewBox=\"0 -960 960 960\">\n",
              "    <path d=\"M120-120v-720h720v720H120Zm60-500h600v-160H180v160Zm220 220h160v-160H400v160Zm0 220h160v-160H400v160ZM180-400h160v-160H180v160Zm440 0h160v-160H620v160ZM180-180h160v-160H180v160Zm440 0h160v-160H620v160Z\"/>\n",
              "  </svg>\n",
              "    </button>\n",
              "\n",
              "  <style>\n",
              "    .colab-df-container {\n",
              "      display:flex;\n",
              "      gap: 12px;\n",
              "    }\n",
              "\n",
              "    .colab-df-convert {\n",
              "      background-color: #E8F0FE;\n",
              "      border: none;\n",
              "      border-radius: 50%;\n",
              "      cursor: pointer;\n",
              "      display: none;\n",
              "      fill: #1967D2;\n",
              "      height: 32px;\n",
              "      padding: 0 0 0 0;\n",
              "      width: 32px;\n",
              "    }\n",
              "\n",
              "    .colab-df-convert:hover {\n",
              "      background-color: #E2EBFA;\n",
              "      box-shadow: 0px 1px 2px rgba(60, 64, 67, 0.3), 0px 1px 3px 1px rgba(60, 64, 67, 0.15);\n",
              "      fill: #174EA6;\n",
              "    }\n",
              "\n",
              "    .colab-df-buttons div {\n",
              "      margin-bottom: 4px;\n",
              "    }\n",
              "\n",
              "    [theme=dark] .colab-df-convert {\n",
              "      background-color: #3B4455;\n",
              "      fill: #D2E3FC;\n",
              "    }\n",
              "\n",
              "    [theme=dark] .colab-df-convert:hover {\n",
              "      background-color: #434B5C;\n",
              "      box-shadow: 0px 1px 3px 1px rgba(0, 0, 0, 0.15);\n",
              "      filter: drop-shadow(0px 1px 2px rgba(0, 0, 0, 0.3));\n",
              "      fill: #FFFFFF;\n",
              "    }\n",
              "  </style>\n",
              "\n",
              "    <script>\n",
              "      const buttonEl =\n",
              "        document.querySelector('#df-ab019893-1445-4ac3-a159-d650e797a0b8 button.colab-df-convert');\n",
              "      buttonEl.style.display =\n",
              "        google.colab.kernel.accessAllowed ? 'block' : 'none';\n",
              "\n",
              "      async function convertToInteractive(key) {\n",
              "        const element = document.querySelector('#df-ab019893-1445-4ac3-a159-d650e797a0b8');\n",
              "        const dataTable =\n",
              "          await google.colab.kernel.invokeFunction('convertToInteractive',\n",
              "                                                    [key], {});\n",
              "        if (!dataTable) return;\n",
              "\n",
              "        const docLinkHtml = 'Like what you see? Visit the ' +\n",
              "          '<a target=\"_blank\" href=https://colab.research.google.com/notebooks/data_table.ipynb>data table notebook</a>'\n",
              "          + ' to learn more about interactive tables.';\n",
              "        element.innerHTML = '';\n",
              "        dataTable['output_type'] = 'display_data';\n",
              "        await google.colab.output.renderOutput(dataTable, element);\n",
              "        const docLink = document.createElement('div');\n",
              "        docLink.innerHTML = docLinkHtml;\n",
              "        element.appendChild(docLink);\n",
              "      }\n",
              "    </script>\n",
              "  </div>\n",
              "\n",
              "\n",
              "<div id=\"df-5a182c6a-ee48-445c-bfbf-8bbdfa116011\">\n",
              "  <button class=\"colab-df-quickchart\" onclick=\"quickchart('df-5a182c6a-ee48-445c-bfbf-8bbdfa116011')\"\n",
              "            title=\"Suggest charts\"\n",
              "            style=\"display:none;\">\n",
              "\n",
              "<svg xmlns=\"http://www.w3.org/2000/svg\" height=\"24px\"viewBox=\"0 0 24 24\"\n",
              "     width=\"24px\">\n",
              "    <g>\n",
              "        <path d=\"M19 3H5c-1.1 0-2 .9-2 2v14c0 1.1.9 2 2 2h14c1.1 0 2-.9 2-2V5c0-1.1-.9-2-2-2zM9 17H7v-7h2v7zm4 0h-2V7h2v10zm4 0h-2v-4h2v4z\"/>\n",
              "    </g>\n",
              "</svg>\n",
              "  </button>\n",
              "\n",
              "<style>\n",
              "  .colab-df-quickchart {\n",
              "      --bg-color: #E8F0FE;\n",
              "      --fill-color: #1967D2;\n",
              "      --hover-bg-color: #E2EBFA;\n",
              "      --hover-fill-color: #174EA6;\n",
              "      --disabled-fill-color: #AAA;\n",
              "      --disabled-bg-color: #DDD;\n",
              "  }\n",
              "\n",
              "  [theme=dark] .colab-df-quickchart {\n",
              "      --bg-color: #3B4455;\n",
              "      --fill-color: #D2E3FC;\n",
              "      --hover-bg-color: #434B5C;\n",
              "      --hover-fill-color: #FFFFFF;\n",
              "      --disabled-bg-color: #3B4455;\n",
              "      --disabled-fill-color: #666;\n",
              "  }\n",
              "\n",
              "  .colab-df-quickchart {\n",
              "    background-color: var(--bg-color);\n",
              "    border: none;\n",
              "    border-radius: 50%;\n",
              "    cursor: pointer;\n",
              "    display: none;\n",
              "    fill: var(--fill-color);\n",
              "    height: 32px;\n",
              "    padding: 0;\n",
              "    width: 32px;\n",
              "  }\n",
              "\n",
              "  .colab-df-quickchart:hover {\n",
              "    background-color: var(--hover-bg-color);\n",
              "    box-shadow: 0 1px 2px rgba(60, 64, 67, 0.3), 0 1px 3px 1px rgba(60, 64, 67, 0.15);\n",
              "    fill: var(--button-hover-fill-color);\n",
              "  }\n",
              "\n",
              "  .colab-df-quickchart-complete:disabled,\n",
              "  .colab-df-quickchart-complete:disabled:hover {\n",
              "    background-color: var(--disabled-bg-color);\n",
              "    fill: var(--disabled-fill-color);\n",
              "    box-shadow: none;\n",
              "  }\n",
              "\n",
              "  .colab-df-spinner {\n",
              "    border: 2px solid var(--fill-color);\n",
              "    border-color: transparent;\n",
              "    border-bottom-color: var(--fill-color);\n",
              "    animation:\n",
              "      spin 1s steps(1) infinite;\n",
              "  }\n",
              "\n",
              "  @keyframes spin {\n",
              "    0% {\n",
              "      border-color: transparent;\n",
              "      border-bottom-color: var(--fill-color);\n",
              "      border-left-color: var(--fill-color);\n",
              "    }\n",
              "    20% {\n",
              "      border-color: transparent;\n",
              "      border-left-color: var(--fill-color);\n",
              "      border-top-color: var(--fill-color);\n",
              "    }\n",
              "    30% {\n",
              "      border-color: transparent;\n",
              "      border-left-color: var(--fill-color);\n",
              "      border-top-color: var(--fill-color);\n",
              "      border-right-color: var(--fill-color);\n",
              "    }\n",
              "    40% {\n",
              "      border-color: transparent;\n",
              "      border-right-color: var(--fill-color);\n",
              "      border-top-color: var(--fill-color);\n",
              "    }\n",
              "    60% {\n",
              "      border-color: transparent;\n",
              "      border-right-color: var(--fill-color);\n",
              "    }\n",
              "    80% {\n",
              "      border-color: transparent;\n",
              "      border-right-color: var(--fill-color);\n",
              "      border-bottom-color: var(--fill-color);\n",
              "    }\n",
              "    90% {\n",
              "      border-color: transparent;\n",
              "      border-bottom-color: var(--fill-color);\n",
              "    }\n",
              "  }\n",
              "</style>\n",
              "\n",
              "  <script>\n",
              "    async function quickchart(key) {\n",
              "      const quickchartButtonEl =\n",
              "        document.querySelector('#' + key + ' button');\n",
              "      quickchartButtonEl.disabled = true;  // To prevent multiple clicks.\n",
              "      quickchartButtonEl.classList.add('colab-df-spinner');\n",
              "      try {\n",
              "        const charts = await google.colab.kernel.invokeFunction(\n",
              "            'suggestCharts', [key], {});\n",
              "      } catch (error) {\n",
              "        console.error('Error during call to suggestCharts:', error);\n",
              "      }\n",
              "      quickchartButtonEl.classList.remove('colab-df-spinner');\n",
              "      quickchartButtonEl.classList.add('colab-df-quickchart-complete');\n",
              "    }\n",
              "    (() => {\n",
              "      let quickchartButtonEl =\n",
              "        document.querySelector('#df-5a182c6a-ee48-445c-bfbf-8bbdfa116011 button');\n",
              "      quickchartButtonEl.style.display =\n",
              "        google.colab.kernel.accessAllowed ? 'block' : 'none';\n",
              "    })();\n",
              "  </script>\n",
              "</div>\n",
              "\n",
              "  <div id=\"id_e33121f6-0974-4074-ae40-0a238757286c\">\n",
              "    <style>\n",
              "      .colab-df-generate {\n",
              "        background-color: #E8F0FE;\n",
              "        border: none;\n",
              "        border-radius: 50%;\n",
              "        cursor: pointer;\n",
              "        display: none;\n",
              "        fill: #1967D2;\n",
              "        height: 32px;\n",
              "        padding: 0 0 0 0;\n",
              "        width: 32px;\n",
              "      }\n",
              "\n",
              "      .colab-df-generate:hover {\n",
              "        background-color: #E2EBFA;\n",
              "        box-shadow: 0px 1px 2px rgba(60, 64, 67, 0.3), 0px 1px 3px 1px rgba(60, 64, 67, 0.15);\n",
              "        fill: #174EA6;\n",
              "      }\n",
              "\n",
              "      [theme=dark] .colab-df-generate {\n",
              "        background-color: #3B4455;\n",
              "        fill: #D2E3FC;\n",
              "      }\n",
              "\n",
              "      [theme=dark] .colab-df-generate:hover {\n",
              "        background-color: #434B5C;\n",
              "        box-shadow: 0px 1px 3px 1px rgba(0, 0, 0, 0.15);\n",
              "        filter: drop-shadow(0px 1px 2px rgba(0, 0, 0, 0.3));\n",
              "        fill: #FFFFFF;\n",
              "      }\n",
              "    </style>\n",
              "    <button class=\"colab-df-generate\" onclick=\"generateWithVariable('df_groom')\"\n",
              "            title=\"Generate code using this dataframe.\"\n",
              "            style=\"display:none;\">\n",
              "\n",
              "  <svg xmlns=\"http://www.w3.org/2000/svg\" height=\"24px\"viewBox=\"0 0 24 24\"\n",
              "       width=\"24px\">\n",
              "    <path d=\"M7,19H8.4L18.45,9,17,7.55,7,17.6ZM5,21V16.75L18.45,3.32a2,2,0,0,1,2.83,0l1.4,1.43a1.91,1.91,0,0,1,.58,1.4,1.91,1.91,0,0,1-.58,1.4L9.25,21ZM18.45,9,17,7.55Zm-12,3A5.31,5.31,0,0,0,4.9,8.1,5.31,5.31,0,0,0,1,6.5,5.31,5.31,0,0,0,4.9,4.9,5.31,5.31,0,0,0,6.5,1,5.31,5.31,0,0,0,8.1,4.9,5.31,5.31,0,0,0,12,6.5,5.46,5.46,0,0,0,6.5,12Z\"/>\n",
              "  </svg>\n",
              "    </button>\n",
              "    <script>\n",
              "      (() => {\n",
              "      const buttonEl =\n",
              "        document.querySelector('#id_e33121f6-0974-4074-ae40-0a238757286c button.colab-df-generate');\n",
              "      buttonEl.style.display =\n",
              "        google.colab.kernel.accessAllowed ? 'block' : 'none';\n",
              "\n",
              "      buttonEl.onclick = () => {\n",
              "        google.colab.notebook.generateWithVariable('df_groom');\n",
              "      }\n",
              "      })();\n",
              "    </script>\n",
              "  </div>\n",
              "\n",
              "    </div>\n",
              "  </div>\n"
            ],
            "application/vnd.google.colaboratory.intrinsic+json": {
              "type": "dataframe",
              "variable_name": "df_groom",
              "summary": "{\n  \"name\": \"df_groom\",\n  \"rows\": 11,\n  \"fields\": [\n    {\n      \"column\": \"\\u5e74\\u9f61\\u5340\\u9593\",\n      \"properties\": {\n        \"dtype\": \"string\",\n        \"num_unique_values\": 11,\n        \"samples\": [\n          \"40 - 44 \\u6b72\",\n          \"15 - 19 \\u6b72\",\n          \"60 - 64 \\u6b72\"\n        ],\n        \"semantic_type\": \"\",\n        \"description\": \"\"\n      }\n    },\n    {\n      \"column\": \"\\u5408\\u8a08\",\n      \"properties\": {\n        \"dtype\": \"number\",\n        \"std\": 12403.481028250972,\n        \"min\": 249.0,\n        \"max\": 35239.0,\n        \"num_unique_values\": 11,\n        \"samples\": [\n          8024.0,\n          676.0,\n          294.0\n        ],\n        \"semantic_type\": \"\",\n        \"description\": \"\"\n      }\n    },\n    {\n      \"column\": \"\\u535a\\u58eb\\u7562\\u696d\",\n      \"properties\": {\n        \"dtype\": \"number\",\n        \"std\": 111.21428946775762,\n        \"min\": 0.0,\n        \"max\": 294.0,\n        \"num_unique_values\": 9,\n        \"samples\": [\n          15.0,\n          65.0,\n          53.0\n        ],\n        \"semantic_type\": \"\",\n        \"description\": \"\"\n      }\n    },\n    {\n      \"column\": \"\\u78a9\\u58eb\\u7562\\u696d\",\n      \"properties\": {\n        \"dtype\": \"number\",\n        \"std\": 2234.298384891166,\n        \"min\": 0.0,\n        \"max\": 6921.0,\n        \"num_unique_values\": 11,\n        \"samples\": [\n          1140.0,\n          0.0,\n          21.0\n        ],\n        \"semantic_type\": \"\",\n        \"description\": \"\"\n      }\n    },\n    {\n      \"column\": \"\\u5927\\u5b78\\u7562\\u696d\",\n      \"properties\": {\n        \"dtype\": \"number\",\n        \"std\": 6675.952982023002,\n        \"min\": 0.0,\n        \"max\": 19040.0,\n        \"num_unique_values\": 11,\n        \"samples\": [\n          2910.0,\n          0.0,\n          65.0\n        ],\n        \"semantic_type\": \"\",\n        \"description\": \"\"\n      }\n    },\n    {\n      \"column\": \"\\u5c08\\u79d1\\u7562\\u696d\",\n      \"properties\": {\n        \"dtype\": \"number\",\n        \"std\": 463.352153531003,\n        \"min\": 0.0,\n        \"max\": 1197.0,\n        \"num_unique_values\": 11,\n        \"samples\": [\n          862.0,\n          0.0,\n          19.0\n        ],\n        \"semantic_type\": \"\",\n        \"description\": \"\"\n      }\n    },\n    {\n      \"column\": \"\\u9ad8\\u4e2d\\u7562\\u696d\",\n      \"properties\": {\n        \"dtype\": \"number\",\n        \"std\": 2717.638182486604,\n        \"min\": 50.0,\n        \"max\": 7751.0,\n        \"num_unique_values\": 11,\n        \"samples\": [\n          2150.0,\n          151.0,\n          94.0\n        ],\n        \"semantic_type\": \"\",\n        \"description\": \"\"\n      }\n    },\n    {\n      \"column\": \"\\u521d\\u4e2d\\u7562\\u696d\",\n      \"properties\": {\n        \"dtype\": \"number\",\n        \"std\": 821.782209590838,\n        \"min\": 38.0,\n        \"max\": 2238.0,\n        \"num_unique_values\": 11,\n        \"samples\": [\n          719.0,\n          517.0,\n          68.0\n        ],\n        \"semantic_type\": \"\",\n        \"description\": \"\"\n      }\n    },\n    {\n      \"column\": \"\\u570b\\u5c0f\\u7562\\u696d\\u4ee5\\u4e0b\",\n      \"properties\": {\n        \"dtype\": \"number\",\n        \"std\": 37.40588189041932,\n        \"min\": 8.0,\n        \"max\": 131.0,\n        \"num_unique_values\": 11,\n        \"samples\": [\n          84.0,\n          8.0,\n          20.0\n        ],\n        \"semantic_type\": \"\",\n        \"description\": \"\"\n      }\n    }\n  ]\n}"
            }
          },
          "metadata": {},
          "execution_count": 22
        }
      ]
    },
    {
      "cell_type": "markdown",
      "source": [
        "## 結果與分析"
      ],
      "metadata": {
        "id": "QGzmPhkGc4ZV"
      }
    },
    {
      "cell_type": "markdown",
      "source": [
        "年齡結構分布"
      ],
      "metadata": {
        "id": "PLY6a05LHYv9"
      }
    },
    {
      "cell_type": "code",
      "source": [
        "# 加上性別欄位\n",
        "df_groom['性別'] = '新郎'\n",
        "df_bride['性別'] = '新娘'\n",
        "\n",
        "# 合併資料\n",
        "df_combined = pd.concat([df_groom, df_bride], ignore_index=True)\n",
        "\n",
        "# 轉換為長格式\n",
        "df_melted = df_combined.melt(\n",
        "    id_vars=['年齡區間', '性別'],\n",
        "    value_vars=columns[2:],  # 各教育程度\n",
        "    var_name='教育程度',\n",
        "    value_name='人數'\n",
        ")\n",
        "\n",
        "plt.figure(figsize=(14, 7))\n",
        "sns.barplot(\n",
        "    data=df_melted,\n",
        "    x='年齡區間',\n",
        "    y='人數',\n",
        "    hue='教育程度',\n",
        "    ci=None,\n",
        "    palette='tab20c',\n",
        "    dodge=True\n",
        ")\n",
        "plt.title('初婚人數：年齡區間 vs 教育程度')\n",
        "plt.xlabel('年齡區間')\n",
        "plt.ylabel('人數')\n",
        "plt.legend(title='教育程度', bbox_to_anchor=(1.05, 1), loc='upper left')\n",
        "plt.tight_layout()\n",
        "plt.show()"
      ],
      "metadata": {
        "colab": {
          "base_uri": "https://localhost:8080/",
          "height": 794
        },
        "id": "3XvspPHvdg0k",
        "outputId": "9d74a48f-a325-457a-cae6-b3ecaf9ea031"
      },
      "execution_count": 29,
      "outputs": [
        {
          "output_type": "stream",
          "name": "stderr",
          "text": [
            "<ipython-input-29-cbe6c6bf750b>:17: FutureWarning: \n",
            "\n",
            "The `ci` parameter is deprecated. Use `errorbar=None` for the same effect.\n",
            "\n",
            "  sns.barplot(\n"
          ]
        },
        {
          "output_type": "display_data",
          "data": {
            "text/plain": [
              "<Figure size 1400x700 with 1 Axes>"
            ],
            "image/png": "[encoded data removed]"
          },
          "metadata": {}
        }
      ]
    },
    {
      "cell_type": "markdown",
      "source": [
        "**分析結果**：教育程度越高，結婚年齡有明顯後移的趨勢。\n",
        "\n",
        "博士、碩士畢業者主要集中在 30-34歲與35-39歲。\n",
        "\n",
        "大學、專科畢業者主要集中在 25-34歲。\n",
        "\n",
        "高中以下教育程度者則較多在 20-29歲結婚，甚至可見於 15-19歲區間。"
      ],
      "metadata": {
        "id": "59kCGRHVdpen"
      }
    },
    {
      "cell_type": "markdown",
      "source": [
        "### 不同性別的年人數和年齡分布\n",
        "使用推疊長條圖進行分析。"
      ],
      "metadata": {
        "id": "l658_wD4dtKi"
      }
    },
    {
      "cell_type": "code",
      "source": [
        "g = sns.FacetGrid(df_melted, col=\"性別\", height=6, aspect=1.2)\n",
        "g.map_dataframe(\n",
        "    sns.barplot,\n",
        "    x=\"年齡區間\",\n",
        "    y=\"人數\",\n",
        "    hue=\"教育程度\",\n",
        "    palette=\"tab20c\",\n",
        "    ci=None,\n",
        "    dodge=True\n",
        ")\n",
        "g.add_legend(title='教育程度')\n",
        "g.set_titles(\"{col_name}\")\n",
        "g.set_axis_labels(\"年齡區間\", \"人數\")\n",
        "plt.suptitle(\"初婚人數：年齡區間 vs 教育程度（新郎 vs 新娘）\", fontsize=16)\n",
        "plt.tight_layout()\n",
        "plt.subplots_adjust(top=0.88)\n",
        "plt.show()"
      ],
      "metadata": {
        "colab": {
          "base_uri": "https://localhost:8080/",
          "height": 754
        },
        "id": "QUo5Ghl_dvh9",
        "outputId": "75982faf-24e0-43d3-d0ed-26085ac13189"
      },
      "execution_count": 42,
      "outputs": [
        {
          "output_type": "stream",
          "name": "stderr",
          "text": [
            "/usr/local/lib/python3.11/dist-packages/seaborn/axisgrid.py:854: FutureWarning: \n",
            "\n",
            "The `ci` parameter is deprecated. Use `errorbar=None` for the same effect.\n",
            "\n",
            "  func(*plot_args, **plot_kwargs)\n",
            "/usr/local/lib/python3.11/dist-packages/seaborn/axisgrid.py:854: FutureWarning: \n",
            "\n",
            "The `ci` parameter is deprecated. Use `errorbar=None` for the same effect.\n",
            "\n",
            "  func(*plot_args, **plot_kwargs)\n"
          ]
        },
        {
          "output_type": "display_data",
          "data": {
            "text/plain": [
              "<Figure size 1573.25x600 with 2 Axes>"
            ],
            "image/png": "[encoded data removed]"
          },
          "metadata": {}
        }
      ]
    },
    {
      "cell_type": "markdown",
      "source": [
        "**分析結果**：\n",
        "- 新郎中：\n",
        "\n",
        "  大學畢業者佔多數，尤其在30-34歲年齡段形成明顯的高峰。\n",
        "\n",
        "  碩士與博士人數也顯著出現在30-39歲段。\n",
        "\n",
        "- 新娘中：\n",
        "\n",
        "  大學畢業者也最多，但集中在25-29歲。\n",
        "\n",
        "  高中及以下學歷的比例較新郎來得高。\n",
        "\n",
        "  碩博士比例相較新郎則明顯較低。\n",
        "- 高齡結婚現象\n",
        "  新郎在35-44歲仍有不少初婚者，顯示男性較女性更常晚婚。\n",
        "\n",
        "  新娘在35歲以後的初婚人數顯著下降。\n"
      ],
      "metadata": {
        "id": "9tDsprEvd4qd"
      }
    },
    {
      "cell_type": "markdown",
      "source": [
        "## 結論與建議"
      ],
      "metadata": {
        "id": "Cm8kUUS_d-mv"
      }
    },
    {
      "cell_type": "markdown",
      "source": [
        "\n",
        "### 結論\n",
        "1. 結果呈現出「學歷越高 → 結婚年齡越晚」的趨勢，而學歷較低者則傾向於早婚，但整體人數在高年齡層急速下降。\n",
        "2. 女性初婚年齡集中於25-29歲，多為大學學歷，但碩博士比例明顯低於男性。\n",
        "3. 新郎普遍比新娘晚婚，學歷越高延後結婚的趨勢越明顯。"
      ],
      "metadata": {
        "id": "dA5NgyNXbwXM"
      }
    },
    {
      "cell_type": "code",
      "execution_count": null,
      "metadata": {
        "id": "GZi83sC2bsE_"
      },
      "outputs": [],
      "source": []
    }
  ]
}