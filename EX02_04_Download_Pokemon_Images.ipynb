{
  "nbformat": 4,
  "nbformat_minor": 0,
  "metadata": {
    "colab": {
      "provenance": [],
      "authorship_tag": "ABX9TyO55++kL58cr4pC+UMJsD4k",
      "include_colab_link": true
    },
    "kernelspec": {
      "name": "python3",
      "display_name": "Python 3"
    },
    "language_info": {
      "name": "python"
    }
  },
  "cells": [
    {
      "cell_type": "markdown",
      "metadata": {
        "id": "view-in-github",
        "colab_type": "text"
      },
      "source": [
        "<a href=\"https://colab.research.google.com/github/wang201156/ycps0218/blob/main/EX02_04_Download_Pokemon_Images.ipynb\" target=\"_parent\"><img src=\"https://colab.research.google.com/assets/colab-badge.svg\" alt=\"Open In Colab\"/></a>"
      ]
    },
    {
      "cell_type": "code",
      "execution_count": null,
      "metadata": {
        "id": "d5tC07SLD86B"
      },
      "outputs": [],
      "source": [
        "import request\n",
        "url=\n",
        "request\n",
        "\n"
      ]
    },
    {
      "cell_type": "code",
      "source": [
        "<img class=\"pokemon-img__front\" src=\"/play/resources/pokedex/img/pm/cf47f9fac4ed3037ff2a8ea83204e32aff8fb5f3.png\">"
      ],
      "metadata": {
        "id": "W-YQ5ZknSoQY"
      },
      "execution_count": null,
      "outputs": []
    },
    {
      "cell_type": "code",
      "source": [
        "import requests\n",
        "from bs4 import BeautifulSoup\n",
        "\n",
        "for i in range(1,11):\n",
        "  id=f'{i:04}'\n",
        "  url=f'https://tw.portal-pokemon.com/play/pokedex/{id}'\n",
        "  response=requests.get(url)\n",
        "  soup = BeautifulSoup(response.text, 'lxml')\n",
        "\n",
        "  img_src=soup.find('img',class_=\"pokemon-img__front\").get('src')\n",
        "  img_url = \"https://tw.portal-pokemon.com/\" + img_src\n",
        "  img=requests.get(img_url)\n",
        "  with open(f'/content/pokemon/{id}.png', 'wb') as f:\n",
        "    f.write(img.content)"
      ],
      "metadata": {
        "id": "KmrD9BvnSkOo"
      },
      "execution_count": 4,
      "outputs": []
    }
  ]
}