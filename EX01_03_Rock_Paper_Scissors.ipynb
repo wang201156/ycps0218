{
  "nbformat": 4,
  "nbformat_minor": 0,
  "metadata": {
    "colab": {
      "provenance": [],
      "authorship_tag": "ABX9TyPk1Hr9dnEkZYrgWes0jAeC",
      "include_colab_link": true
    },
    "kernelspec": {
      "name": "python3",
      "display_name": "Python 3"
    },
    "language_info": {
      "name": "python"
    }
  },
  "cells": [
    {
      "cell_type": "markdown",
      "metadata": {
        "id": "view-in-github",
        "colab_type": "text"
      },
      "source": [
        "<a href=\"https://colab.research.google.com/github/wang201156/ycps0218/blob/main/EX01_03_Rock_Paper_Scissors.ipynb\" target=\"_parent\"><img src=\"https://colab.research.google.com/assets/colab-badge.svg\" alt=\"Open In Colab\"/></a>"
      ]
    },
    {
      "cell_type": "code",
      "execution_count": 10,
      "metadata": {
        "colab": {
          "base_uri": "https://localhost:8080/"
        },
        "id": "KUNU_a6Hutk7",
        "outputId": "700780f5-2f01-4d2b-9054-4e917cdc2f25"
      },
      "outputs": [
        {
          "output_type": "stream",
          "name": "stdout",
          "text": [
            "0,2,5\n",
            "2\n",
            "pc: 2\n",
            "draw\n"
          ]
        }
      ],
      "source": [
        "import random\n",
        "player=int(input(\"0,2,5\\n\"))\n",
        "pc=random.choice( [0,2,5] )\n",
        "print(\"pc:\",pc)\n",
        "if player==pc:\n",
        "  print(\"draw\")\n",
        "elif (player==0 and pc==5) or (player==2 and pc==0) or (player==5 and pc==2):\n",
        "  print(\"you lose\")\n",
        "else:\n",
        "  print(\"you win\")"
      ]
    }
  ]
}