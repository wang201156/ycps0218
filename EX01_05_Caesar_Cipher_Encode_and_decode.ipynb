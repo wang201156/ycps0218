{
  "nbformat": 4,
  "nbformat_minor": 0,
  "metadata": {
    "colab": {
      "provenance": [],
      "authorship_tag": "ABX9TyN4Hd2HxXZEZ1/qibFE7UWy",
      "include_colab_link": true
    },
    "kernelspec": {
      "name": "python3",
      "display_name": "Python 3"
    },
    "language_info": {
      "name": "python"
    }
  },
  "cells": [
    {
      "cell_type": "markdown",
      "metadata": {
        "id": "view-in-github",
        "colab_type": "text"
      },
      "source": [
        "<a href=\"https://colab.research.google.com/github/wang201156/ycps0218/blob/main/EX01_05_Caesar_Cipher_Encode_and_decode.ipynb\" target=\"_parent\"><img src=\"https://colab.research.google.com/assets/colab-badge.svg\" alt=\"Open In Colab\"/></a>"
      ]
    },
    {
      "cell_type": "code",
      "execution_count": 5,
      "metadata": {
        "colab": {
          "base_uri": "https://localhost:8080/"
        },
        "id": "MkMmvH29IvtQ",
        "outputId": "bda7ca5d-342f-4235-fe41-c74f3010cc15"
      },
      "outputs": [
        {
          "output_type": "stream",
          "name": "stdout",
          "text": [
            "d7\n",
            "olssv\n",
            "hello\n"
          ]
        }
      ],
      "source": [
        "code=input()\n",
        "txt=input()\n",
        "\n",
        "code_type=code[0]\n",
        "key=int(code[1:])\n",
        "ntxt=\"\"\n",
        "\n",
        "if code_type==\"d\":\n",
        "  for c in txt:\n",
        "    nc=ord(c)-key\n",
        "    ntxt=ntxt+chr(nc)\n",
        "elif code_type==\"e\":\n",
        "  for c in txt:\n",
        "    nc=ord(c)+key\n",
        "    ntxt=ntxt+chr(nc)\n",
        "else:\n",
        "  print(\"invalid code\")\n",
        "print(ntxt)"
      ]
    }
  ]
}