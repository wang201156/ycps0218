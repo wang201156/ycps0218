{
  "nbformat": 4,
  "nbformat_minor": 0,
  "metadata": {
    "colab": {
      "provenance": [],
      "authorship_tag": "ABX9TyMZKH98m/U4AqvlTltuc9zH",
      "include_colab_link": true
    },
    "kernelspec": {
      "name": "python3",
      "display_name": "Python 3"
    },
    "language_info": {
      "name": "python"
    }
  },
  "cells": [
    {
      "cell_type": "markdown",
      "metadata": {
        "id": "view-in-github",
        "colab_type": "text"
      },
      "source": [
        "<a href=\"https://colab.research.google.com/github/wang201156/ycps0218/blob/main/EX01_01.ipynb\" target=\"_parent\"><img src=\"https://colab.research.google.com/assets/colab-badge.svg\" alt=\"Open In Colab\"/></a>"
      ]
    },
    {
      "cell_type": "code",
      "execution_count": 7,
      "metadata": {
        "colab": {
          "base_uri": "https://localhost:8080/"
        },
        "collapsed": true,
        "id": "-N3VMybjEG6G",
        "outputId": "2245b4fb-ac22-4400-9ad9-105c21809853"
      },
      "outputs": [
        {
          "output_type": "stream",
          "name": "stdout",
          "text": [
            "first number:2\n",
            "second number:3\n",
            "result: 5\n"
          ]
        }
      ],
      "source": [
        "# get first number\n",
        "input1=int(input(\"first number:\"))\n",
        "\n",
        "# get second number\n",
        "input2=int(input(\"second number:\"))\n",
        "# print ressult\n",
        "total=input1+input2\n",
        "print(\"result:\",total)"
      ]
    },
    {
      "cell_type": "code",
      "source": [],
      "metadata": {
        "id": "fzphRBK1E0aW"
      },
      "execution_count": null,
      "outputs": []
    }
  ]
}